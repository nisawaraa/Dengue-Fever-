{
  "nbformat": 4,
  "nbformat_minor": 0,
  "metadata": {
    "colab": {
      "private_outputs": true,
      "provenance": []
    },
    "kernelspec": {
      "name": "python3",
      "display_name": "Python 3"
    },
    "language_info": {
      "name": "python"
    }
  },
  "cells": [
    {
      "cell_type": "code",
      "source": [],
      "metadata": {
        "id": "PQuD-U-Bvs_U"
      },
      "execution_count": null,
      "outputs": []
    },
    {
      "cell_type": "markdown",
      "source": [
        "# ขั้นตอน 1: โหลดและเตรียมข้อมูล"
      ],
      "metadata": {
        "id": "QGNPU9QdvvpS"
      }
    },
    {
      "cell_type": "code",
      "source": [
        "import pandas as pd\n",
        "\n",
        "# โหลดข้อมูลสภาพอากาศจากหลายชีทในไฟล์ rain.xlsx\n",
        "file_path = 'rain.xlsx'\n",
        "xls = pd.ExcelFile(file_path)\n",
        "\n",
        "df_list = []\n",
        "for sheet in xls.sheet_names:\n",
        "    df = pd.read_excel(xls, sheet_name=sheet)\n",
        "    df = df.rename(columns={'ปี': 'year', 'เดือน': 'month', 'วันที่': 'day'})\n",
        "\n",
        "    # แปลงเป็นตัวเลข\n",
        "    df['year'] = pd.to_numeric(df['year'], errors='coerce')\n",
        "    df['month'] = pd.to_numeric(df['month'], errors='coerce')\n",
        "    df['day'] = pd.to_numeric(df['day'], errors='coerce')\n",
        "    df = df.dropna(subset=['year', 'month', 'day'])\n",
        "\n",
        "    # สร้าง datetime column\n",
        "    df['วัน'] = pd.to_datetime(df[['year', 'month', 'day']], errors='coerce')\n",
        "    df = df.dropna(subset=['วัน'])\n",
        "\n",
        "    # แปลงข้อมูลสภาพอากาศให้เป็นตัวเลข\n",
        "    for col in ['อุณหภูมิ', 'ฝน', 'ชื้น']:\n",
        "        if col in df.columns:\n",
        "            df[col] = pd.to_numeric(df[col], errors='coerce')\n",
        "\n",
        "    # กรองเอาเฉพาะแถวที่มีข้อมูลครบ\n",
        "    df = df[df[['อุณหภูมิ', 'ฝน', 'ชื้น']].notna().all(axis=1)]\n",
        "    df_list.append(df)\n",
        "\n",
        "# รวมข้อมูลสภาพอากาศทั้งหมด\n",
        "weather = pd.concat(df_list, ignore_index=True).drop_duplicates().sort_values('วัน').reset_index(drop=True)\n",
        "\n",
        "# บันทึกข้อมูลสภาพอากาศที่ clean แล้ว\n",
        "weather.to_excel('rain_all_years_sorted3.xlsx', index=False)\n",
        "print(\"✅ บันทึก rain_all_years_sorted3.xlsx เรียบร้อยแล้ว\")\n"
      ],
      "metadata": {
        "id": "X-BOXRdcvwn4"
      },
      "execution_count": null,
      "outputs": []
    },
    {
      "cell_type": "markdown",
      "source": [
        "# ขั้นตอน 2: โหลดและเตรียมข้อมูลผู้ป่วย"
      ],
      "metadata": {
        "id": "guGfkSH3vziC"
      }
    },
    {
      "cell_type": "code",
      "source": [
        "# โหลดข้อมูลผู้ป่วยจากหลายชีทในไฟล์ DHFcc12.xlsx\n",
        "xls = pd.ExcelFile('DHFcc12.xlsx')\n",
        "df_list = []\n",
        "\n",
        "for sheet in xls.sheet_names:\n",
        "    if sheet == \"Table1\":  # ข้ามชีท Table1\n",
        "        continue\n",
        "\n",
        "    df = pd.read_excel(xls, sheet_name=sheet)\n",
        "    df.columns = df.columns.str.strip()\n",
        "\n",
        "    if 'วันเริ่มป่วย' in df.columns:\n",
        "        df['วันเริ่มป่วย'] = pd.to_datetime(df['วันเริ่มป่วย'], errors='coerce')\n",
        "\n",
        "    for col in ['อายุ(ปี)', 'อายุ(เดือน)']:\n",
        "        if col in df.columns:\n",
        "            df[col] = pd.to_numeric(df[col], errors='coerce')\n",
        "\n",
        "    df = df.dropna(subset=['วันเริ่มป่วย'])\n",
        "    df = df.dropna(how='all')\n",
        "\n",
        "    df_list.append(df)\n",
        "\n",
        "patients = pd.concat(df_list, ignore_index=True).drop_duplicates()\n",
        "print(f\"✅ รวมข้อมูลผู้ป่วยสำเร็จ: {patients.shape[0]} แถว, {patients.shape[1]} คอลัมน์\")\n"
      ],
      "metadata": {
        "id": "Q3idV_YBv0gv"
      },
      "execution_count": null,
      "outputs": []
    },
    {
      "cell_type": "markdown",
      "source": [
        "# ขั้นตอน 3: คำนวณ rolling average ของสภาพอากาศย้อนหลัง 15 วัน สำหรับแต่ละวันเริ่มป่วย"
      ],
      "metadata": {
        "id": "I8F_5ONJv3ST"
      }
    },
    {
      "cell_type": "code",
      "source": [
        "# โหลดข้อมูลสภาพอากาศที่จัดการแล้ว (เพื่อความแน่นอน)\n",
        "weather = pd.read_excel(\"rain_all_years_sorted3.xlsx\")\n",
        "weather['วัน'] = pd.to_datetime(weather['วัน'])\n",
        "\n",
        "# ฟังก์ชันคำนวณ rolling average ย้อนหลัง 15 วัน\n",
        "def get_rolling_avg(date, n_days=15):\n",
        "    start_date = date - pd.Timedelta(days=n_days)\n",
        "    mask = (weather['วัน'] >= start_date) & (weather['วัน'] < date)\n",
        "    subset = weather.loc[mask]\n",
        "    if subset.empty:\n",
        "        return pd.Series([None, None, None])\n",
        "    return pd.Series([\n",
        "        subset['อุณหภูมิ'].mean(),\n",
        "        subset['ฝน'].mean(),\n",
        "        subset['ชื้น'].mean()\n",
        "    ])\n",
        "\n",
        "# คำนวณ rolling average สำหรับผู้ป่วยแต่ละราย\n",
        "patients[['temp_15d_avg', 'rain_15d_avg', 'humid_15d_avg']] = patients['วันเริ่มป่วย'].apply(get_rolling_avg)\n",
        "print(\"✅ คำนวณ rolling average เสร็จ\")\n"
      ],
      "metadata": {
        "id": "VijSe9Uov3mW"
      },
      "execution_count": null,
      "outputs": []
    },
    {
      "cell_type": "markdown",
      "source": [
        "# ขั้นตอน 4: สร้างฟีเจอร์วันที่ เช่น ปี, เดือน, ไตรมาส, ฤดูกาล"
      ],
      "metadata": {
        "id": "7cfpszmov7-F"
      }
    },
    {
      "cell_type": "code",
      "source": [
        "patients['ปี'] = patients['วันเริ่มป่วย'].dt.year\n",
        "patients['เดือน'] = patients['วันเริ่มป่วย'].dt.month\n",
        "patients['ไตรมาส'] = patients['วันเริ่มป่วย'].dt.quarter\n",
        "\n",
        "def assign_season(row):\n",
        "    month = row['เดือน']\n",
        "    day = row['วันเริ่มป่วย'].day\n",
        "    if (month == 2 and day >= 15) or month in [3,4] or (month == 5 and day < 15):\n",
        "        return 'Summer'\n",
        "    elif (month == 5 and day >= 15) or month in [6,7,8,9] or (month == 10 and day < 15):\n",
        "        return 'Rainy'\n",
        "    else:\n",
        "        return 'Winter'\n",
        "\n",
        "patients['ฤดูกาล'] = patients.apply(assign_season, axis=1)\n"
      ],
      "metadata": {
        "id": "ZxILeNCYv9Tp"
      },
      "execution_count": null,
      "outputs": []
    },
    {
      "cell_type": "markdown",
      "source": [
        "# ขั้นตอน 5: รวมข้อมูลรายวันและคำนวณจำนวนผู้ป่วยรายวัน"
      ],
      "metadata": {
        "id": "4f3zx3P0wAgB"
      }
    },
    {
      "cell_type": "code",
      "source": [
        "# สร้าง column วันแบบ date (ไม่มีเวลา)\n",
        "patients['date'] = patients['วันเริ่มป่วย'].dt.date\n",
        "\n",
        "# นับจำนวนผู้ป่วยแต่ละวัน (cases)\n",
        "daily_counts = patients.groupby('date').size().reset_index(name='cases')\n",
        "\n",
        "# คำนวณค่าเฉลี่ยและโหมดของตัวแปรอื่น ๆ ต่อวัน\n",
        "daily_weather = patients.groupby('date').agg({\n",
        "    'temp_15d_avg': 'mean',\n",
        "    'rain_15d_avg': 'mean',\n",
        "    'humid_15d_avg': 'mean',\n",
        "    'อายุ(ปี)': 'mean',\n",
        "    'เพศ': lambda x: x.mode()[0] if not x.mode().empty else None,\n",
        "    'อาชีพ': lambda x: x.mode()[0] if not x.mode().empty else None,\n",
        "    'ตำบล': lambda x: x.mode()[0] if not x.mode().empty else None,\n",
        "    'อำเภอ': lambda x: x.mode()[0] if not x.mode().empty else None,\n",
        "    'เดือน': lambda x: x.mode()[0] if not x.mode().empty else None,\n",
        "    'ปี': lambda x: x.mode()[0] if not x.mode().empty else None,\n",
        "    'ไตรมาส': lambda x: x.mode()[0] if not x.mode().empty else None,\n",
        "    'ฤดูกาล': lambda x: x.mode()[0] if not x.mode().empty else None\n",
        "}).reset_index()\n",
        "\n",
        "# รวมข้อมูลผู้ป่วยรายวันกับข้อมูลสภาพอากาศ\n",
        "df_final = pd.merge(daily_counts, daily_weather, on='date', how='left')\n",
        "print(\"✅ รวมข้อมูล df_final สำเร็จ:\", df_final.shape)\n"
      ],
      "metadata": {
        "id": "d8ELTpp6wBce"
      },
      "execution_count": null,
      "outputs": []
    },
    {
      "cell_type": "markdown",
      "source": [
        "# ขั้นตอน 6: จัดการ missing values และบันทึกข้อมูล"
      ],
      "metadata": {
        "id": "XKRfmM20wEcL"
      }
    },
    {
      "cell_type": "code",
      "source": [
        "missing_before = df_final.isnull().sum().sum()\n",
        "print(f\"⚠️ พบ missing values: {missing_before} ช่อง\")\n",
        "\n",
        "df_final_clean = df_final.dropna()\n",
        "print(\"✅ ลบ missing rows แล้ว → ขนาดข้อมูล:\", df_final_clean.shape)\n",
        "\n",
        "# บันทึกไฟล์ clean data\n",
        "df_final_clean.to_csv(\"df_final_clean.csv\", index=False)\n",
        "df_final_clean.to_excel(\"df_final_clean.xlsx\", index=False)\n",
        "print(\"📁 บันทึกไฟล์ df_final_clean.csv และ df_final_clean.xlsx เรียบร้อย\")\n"
      ],
      "metadata": {
        "id": "0c4k-ckFwFNz"
      },
      "execution_count": null,
      "outputs": []
    },
    {
      "cell_type": "markdown",
      "source": [
        "# ขั้นตอน 7: เปลี่ยนชื่อคอลัมน์เป็นภาษาอังกฤษ เพื่อใช้งานในโมเดล"
      ],
      "metadata": {
        "id": "Cmcu7JMiwJXm"
      }
    },
    {
      "cell_type": "code",
      "source": [
        "df_final_clean = pd.read_excel(\"/content/df_final_clean.xlsx\")"
      ],
      "metadata": {
        "id": "IouK0CFx2H9G"
      },
      "execution_count": null,
      "outputs": []
    },
    {
      "cell_type": "code",
      "source": [
        "print(df_final_clean.isnull().sum())\n"
      ],
      "metadata": {
        "id": "eSW25gCTOcEg"
      },
      "execution_count": null,
      "outputs": []
    },
    {
      "cell_type": "code",
      "source": [
        "df_final_clean = df_final_clean.drop_duplicates() #ตรวจสอบข้อมูลซ้ำ (Duplicate Records)"
      ],
      "metadata": {
        "id": "i0Xp1RnOOfPW"
      },
      "execution_count": null,
      "outputs": []
    },
    {
      "cell_type": "code",
      "source": [
        "print(df_final_clean.dtypes) #ตรวจสอบประเภทข้อมูล (Data Types)\n"
      ],
      "metadata": {
        "id": "aypEpMzAOzxI"
      },
      "execution_count": null,
      "outputs": []
    },
    {
      "cell_type": "code",
      "source": [
        "df_clean = df_final_clean.rename(columns={\n",
        "    'เพศ': 'gender',\n",
        "    'อาชีพ': 'occupation',\n",
        "    'ตำบล': 'subdistrict',\n",
        "    'อำเภอ': 'district',\n",
        "    'เดือน': 'month',\n",
        "    'ไตรมาส': 'quarter',\n",
        "    'อายุ(ปี)': 'age',\n",
        "    'ฤดูกาล': 'season',\n",
        "})\n"
      ],
      "metadata": {
        "id": "duEZRDLYwKNP"
      },
      "execution_count": null,
      "outputs": []
    },
    {
      "cell_type": "code",
      "source": [
        "print(df_clean.head())"
      ],
      "metadata": {
        "id": "Wetw53VbI6Lu"
      },
      "execution_count": null,
      "outputs": []
    },
    {
      "cell_type": "code",
      "source": [
        "import pandas as pd\n",
        "import matplotlib.pyplot as plt\n",
        "\n",
        "# โหลดข้อมูลจากไฟล์\n",
        "df_final_clean = pd.read_excel(\"/content/df_final_clean.xlsx\")\n",
        "\n",
        "# ตัวอย่างการสร้างกราฟแท่ง (Bar Chart) แสดงการกระจายของ 'cases' ตาม 'season'\n",
        "plt.figure(figsize=(10, 6))\n",
        "df_final_clean.groupby('ฤดูกาล')['cases'].sum().plot(kind='bar', color='skyblue')\n",
        "plt.title('Total Cases by Season')\n",
        "plt.xlabel('Season')\n",
        "plt.ylabel('Total Cases')\n",
        "plt.xticks(rotation=45)\n",
        "plt.show()\n",
        "\n",
        "# ตัวอย่างการสร้างกราฟกระจาย (Scatter Plot) แสดงความสัมพันธ์ระหว่าง 'age' และ 'cases'\n",
        "plt.figure(figsize=(10, 6))\n",
        "plt.scatter(df_final_clean['อายุ(ปี)'], df_final_clean['cases'], color='orange')\n",
        "plt.title('Scatter Plot of Age vs Cases')\n",
        "plt.xlabel('Age')\n",
        "plt.ylabel('Cases')\n",
        "plt.show()\n"
      ],
      "metadata": {
        "id": "3sFktvdklJkm"
      },
      "execution_count": null,
      "outputs": []
    },
    {
      "cell_type": "code",
      "source": [
        "import pandas as pd\n",
        "import matplotlib.pyplot as plt\n",
        "\n",
        "# แปลงคอลัมน์ 'date' เป็น datetime\n",
        "df_clean['date'] = pd.to_datetime(df_clean['date'], errors='coerce')\n",
        "\n",
        "# กรองข้อมูลในช่วงปี 2017-2024\n",
        "df_clean = df_clean[df_clean['date'].dt.year.between(2017, 2024)]\n",
        "\n",
        "# สร้างคอลัมน์ 'month' และ 'year' เพื่อให้แยกกราฟตามเดือน\n",
        "df_clean['month'] = df_clean['date'].dt.month\n",
        "df_clean['year'] = df_clean['date'].dt.year\n",
        "\n",
        "# คำนวณค่าเฉลี่ยตามปีและเดือน\n",
        "avg_data = df_clean.groupby(['year', 'month']).agg({\n",
        "    'temp_15d_avg': 'mean',\n",
        "    'rain_15d_avg': 'mean',\n",
        "    'humid_15d_avg': 'mean'\n",
        "}).reset_index()\n",
        "\n",
        "# ตั้งค่าการแสดงผล 3 กราฟ (temp_15d_avg, rain_15d_avg, humid_15d_avg) แยกตามเดือน\n",
        "fig, axs = plt.subplots(3, 1, figsize=(12, 18), sharex=True)\n",
        "\n",
        "# แสดงกราฟแค่เดือนที่จำเป็น (ทุกๆ 6 เดือน)\n",
        "months_to_display = [1, 6, 12]\n",
        "avg_data_filtered = avg_data[avg_data['month'].isin(months_to_display)]\n",
        "\n",
        "# กราฟแสดงอุณหภูมิ (Temperature)\n",
        "axs[0].plot(avg_data_filtered['year'].astype(str) + '-' + avg_data_filtered['month'].astype(str), avg_data_filtered['temp_15d_avg'], color='red', label='Temperature')\n",
        "axs[0].set_title('Average Temperature (°C) from 2017 to 2024')\n",
        "axs[0].set_ylabel('Temperature (°C)')\n",
        "axs[0].legend()\n",
        "\n",
        "# กราฟแสดงฝน (Rainfall)\n",
        "axs[1].plot(avg_data_filtered['year'].astype(str) + '-' + avg_data_filtered['month'].astype(str), avg_data_filtered['rain_15d_avg'], color='green', label='Rainfall')\n",
        "axs[1].set_title('Average Rainfall (mm) from 2017 to 2024')\n",
        "axs[1].set_ylabel('Rainfall (mm)')\n",
        "axs[1].legend()\n",
        "\n",
        "# กราฟแสดงความชื้น (Humidity)\n",
        "axs[2].plot(avg_data_filtered['year'].astype(str) + '-' + avg_data_filtered['month'].astype(str), avg_data_filtered['humid_15d_avg'], color='blue', label='Humidity')\n",
        "axs[2].set_title('Average Humidity (%) from 2017 to 2024')\n",
        "axs[2].set_ylabel('Humidity (%)')\n",
        "axs[2].legend()\n",
        "\n",
        "# ตั้งชื่อกราฟ\n",
        "plt.xlabel('Date (Year-Month)')\n",
        "plt.xticks(rotation=45)\n",
        "plt.tight_layout()\n",
        "plt.show()\n"
      ],
      "metadata": {
        "id": "tqN2205pKI_n"
      },
      "execution_count": null,
      "outputs": []
    },
    {
      "cell_type": "code",
      "source": [
        "import pandas as pd\n",
        "import matplotlib.pyplot as plt\n",
        "\n",
        "# อ่านข้อมูล\n",
        "df = pd.read_csv('df_final_clean.csv')  # ใส่ path ของไฟล์ที่คุณใช้\n",
        "\n",
        "# แปลงคอลัมน์ 'date' เป็น datetime\n",
        "df['date'] = pd.to_datetime(df['date'])\n",
        "\n",
        "# สร้างคอลัมน์ 'year' และ 'season' สำหรับกราฟรายปีและฤดูกาล\n",
        "df['year'] = df['date'].dt.year  # เพิ่มคอลัมน์ 'year' สำหรับการกรุ๊ปข้อมูลรายปี\n",
        "df['season'] = df['date'].dt.month % 12 // 3 + 1  # ฤดูกาล: 1=ฤดูร้อน, 2=ฤดูฝน, 3=ฤดูหนาว\n",
        "\n",
        "# คำนวณค่าเฉลี่ยประจำปี\n",
        "df_yearly = df.groupby('year').agg({\n",
        "    'humid_15d_avg': 'mean',\n",
        "    'rain_15d_avg': 'mean',\n",
        "    'temp_15d_avg': 'mean'\n",
        "}).reset_index()\n",
        "\n",
        "# สร้างกราฟ\n",
        "fig, ax = plt.subplots(3, 1, figsize=(10, 12))\n",
        "\n",
        "# กราฟแสดงอุณหภูมิ\n",
        "ax[0].plot(df_yearly['year'], df_yearly['temp_15d_avg'], label='Temperature', color='red')\n",
        "ax[0].set_title('Average Temperature from 2017 to 2024')\n",
        "ax[0].set_xlabel('Year')\n",
        "ax[0].set_ylabel('Temperature (°C)')\n",
        "\n",
        "# กราฟแสดงฝน\n",
        "ax[1].plot(df_yearly['year'], df_yearly['rain_15d_avg'], label='Rain', color='blue')\n",
        "ax[1].set_title('Average Rainfall from 2017 to 2024')\n",
        "ax[1].set_xlabel('Year')\n",
        "ax[1].set_ylabel('Rainfall (mm)')\n",
        "\n",
        "# กราฟแสดงความชื้น\n",
        "ax[2].plot(df_yearly['year'], df_yearly['humid_15d_avg'], label='Humidity', color='green')\n",
        "ax[2].set_title('Average Humidity from 2017 to 2024')\n",
        "ax[2].set_xlabel('Year')\n",
        "ax[2].set_ylabel('Humidity (%)')\n",
        "\n",
        "# แสดงกราฟ\n",
        "plt.tight_layout()\n",
        "plt.legend()\n",
        "plt.show()\n"
      ],
      "metadata": {
        "id": "bysb4fgVLAbB"
      },
      "execution_count": null,
      "outputs": []
    },
    {
      "cell_type": "code",
      "source": [
        "print(df.columns)\n"
      ],
      "metadata": {
        "id": "qab8woG2LRC9"
      },
      "execution_count": null,
      "outputs": []
    },
    {
      "cell_type": "code",
      "source": [
        "import matplotlib.pyplot as plt\n",
        "from matplotlib import font_manager\n",
        "\n",
        "# กำหนดฟอนต์ที่ใช้\n",
        "font_path = \"/content/THSarabunNew.ttf\"  # แก้ไขให้ตรงกับตำแหน่งฟอนต์ที่ติดตั้ง\n",
        "font_prop = font_manager.FontProperties(fname=font_path)\n",
        "\n",
        "# คำนวณจำนวนผู้ป่วยทั้งหมดในแต่ละตำบล\n",
        "top_subdistricts = df_clean.groupby('subdistrict')['cases'].sum().sort_values(ascending=False).head(20)\n",
        "\n",
        "# สร้างกราฟ\n",
        "plt.figure(figsize=(12, 8))\n",
        "top_subdistricts.plot(kind='barh', color='lightblue')\n",
        "\n",
        "# ตั้งชื่อกราฟและแกน\n",
        "plt.xlabel('Total Cases', fontproperties=font_prop)\n",
        "plt.ylabel('Subdistrict', fontproperties=font_prop)\n",
        "plt.title('Top 20 Subdistricts by Total Cases', fontproperties=font_prop)\n",
        "\n",
        "# หมุนชื่อให้สามารถอ่านได้ง่ายขึ้น\n",
        "plt.xticks(rotation=45, fontproperties=font_prop)\n",
        "plt.yticks(fontproperties=font_prop)\n",
        "\n",
        "# เพิ่มข้อความแสดงจำนวนผู้ป่วย\n",
        "for index, value in enumerate(top_subdistricts):\n",
        "    plt.text(value, index, str(value), fontproperties=font_prop)  # แสดงค่าในแต่ละตำแหน่งของบาร์\n",
        "\n",
        "plt.show()\n"
      ],
      "metadata": {
        "id": "3y43STz2le0U"
      },
      "execution_count": null,
      "outputs": []
    },
    {
      "cell_type": "code",
      "source": [
        "import matplotlib.pyplot as plt\n",
        "from matplotlib import font_manager\n",
        "\n",
        "# กำหนดฟอนต์ที่ใช้\n",
        "font_path = \"/content/THSarabunNew.ttf\"  # แก้ไขให้ตรงกับตำแหน่งฟอนต์ที่ติดตั้ง\n",
        "font_prop = font_manager.FontProperties(fname=font_path)\n",
        "\n",
        "# คำนวณจำนวนผู้ป่วยทั้งหมดในแต่ละตำบล\n",
        "top_subdistricts = df_clean.groupby('subdistrict')['cases'].sum().sort_values(ascending=True).head(20)  # เลือก 20 ตำบลที่มีจำนวนผู้ป่วยน้อยที่สุด\n",
        "\n",
        "# สร้างกราฟ\n",
        "plt.figure(figsize=(12, 8))\n",
        "top_subdistricts.plot(kind='barh', color='lightblue')\n",
        "\n",
        "# ตั้งชื่อกราฟและแกน\n",
        "plt.xlabel('Total Cases', fontproperties=font_prop)\n",
        "plt.ylabel('Subdistrict', fontproperties=font_prop)\n",
        "plt.title('Top 20 Subdistricts by Total Cases (Lowest)', fontproperties=font_prop)\n",
        "\n",
        "# หมุนชื่อให้สามารถอ่านได้ง่ายขึ้น\n",
        "plt.xticks(rotation=45, fontproperties=font_prop)\n",
        "plt.yticks(fontproperties=font_prop)\n",
        "\n",
        "# เพิ่มข้อความแสดงจำนวนผู้ป่วย\n",
        "for index, value in enumerate(top_subdistricts):\n",
        "    plt.text(value, index, str(value), fontproperties=font_prop)  # แสดงค่าในแต่ละตำแหน่งของบาร์\n",
        "\n",
        "plt.show()\n"
      ],
      "metadata": {
        "id": "9ZRjXSqsCi__"
      },
      "execution_count": null,
      "outputs": []
    },
    {
      "cell_type": "code",
      "source": [
        "import matplotlib.pyplot as plt\n",
        "from matplotlib import font_manager\n",
        "\n",
        "# กำหนดฟอนต์ที่ใช้\n",
        "font_path = \"/content/THSarabunNew.ttf\"  # แก้ไขให้ตรงกับตำแหน่งฟอนต์ที่ติดตั้ง\n",
        "font_prop = font_manager.FontProperties(fname=font_path)\n",
        "\n",
        "# คำนวณจำนวนผู้ป่วยทั้งหมดในแต่ละอาชีพ\n",
        "top_occupation = df_clean.groupby('occupation')['cases'].sum().sort_values(ascending=False).head(20)\n",
        "\n",
        "# สร้างกราฟ\n",
        "plt.figure(figsize=(12, 10))  # เพิ่มขนาดกราฟ\n",
        "top_occupation.plot(kind='barh', color='lightcoral')  # ใช้ top_occupation แทน top_subdistricts\n",
        "\n",
        "# ตั้งชื่อกราฟและแกน\n",
        "plt.xlabel('Total Cases', fontproperties=font_prop)\n",
        "plt.ylabel('Occupation', fontproperties=font_prop)  # เปลี่ยนชื่อแกน y\n",
        "plt.title('Top 20 Occupation by Total Cases', fontproperties=font_prop)  # เปลี่ยนชื่อกราฟ\n",
        "\n",
        "# หมุนชื่อให้สามารถอ่านได้ง่ายขึ้น\n",
        "plt.xticks(rotation=45, fontproperties=font_prop)\n",
        "plt.yticks(fontproperties=font_prop)\n",
        "\n",
        "# เพิ่มข้อความแสดงจำนวนผู้ป่วย\n",
        "for index, value in enumerate(top_occupation):  # ใช้ top_occupation แทน top_subdistricts\n",
        "    plt.text(value, index, str(value), fontproperties=font_prop)  # แสดงค่าในแต่ละตำแหน่งของบาร์\n",
        "\n",
        "plt.tight_layout()  # จัดการกับขนาดของกราฟให้สมบูรณ์\n",
        "plt.show()\n"
      ],
      "metadata": {
        "id": "UFMh7gRryMww"
      },
      "execution_count": null,
      "outputs": []
    },
    {
      "cell_type": "markdown",
      "source": [
        "# ขั้นตอน 8: วิเคราะห์เชิงเดี่ยว (Univariate Analysis)"
      ],
      "metadata": {
        "id": "REbDjrN3wNOG"
      }
    },
    {
      "cell_type": "code",
      "source": [
        "# ตรวจสอบชื่อคอลัมน์อีกครั้ง\n",
        "print(df_final_clean.columns)\n"
      ],
      "metadata": {
        "id": "72man_fQQ5hr"
      },
      "execution_count": null,
      "outputs": []
    },
    {
      "cell_type": "code",
      "source": [
        "import pandas as pd\n",
        "import scipy.stats as stats\n",
        "from scipy.stats import spearmanr, pointbiserialr, kruskal\n",
        "\n",
        "# เลือกตัวแปรที่ใช้\n",
        "target = 'cases'\n",
        "numeric_vars = ['temp_15d_avg', 'rain_15d_avg', 'humid_15d_avg', 'อายุ(ปี)']  # รวม 'อายุ(ปี)'\n",
        "binary_cats = ['เพศ']\n",
        "multi_cats = ['อาชีพ', 'ตำบล', 'อำเภอ', 'เดือน', 'ปี', 'ไตรมาส', 'ฤดูกาล']  # รวมตัวแปร 'เดือน', 'ปี', 'ไตรมาส', 'ฤดูกาล'\n",
        "\n",
        "# แปลงเพศเป็นตัวเลข (ชาย=0, หญิง=1)\n",
        "if 'เพศ' in df_final_clean.columns:\n",
        "    df_final_clean['gender_code'] = df_final_clean['เพศ'].map({'ชาย': 0, 'หญิง': 1})\n",
        "\n",
        "# ลบ missing values ที่จำเป็นสำหรับตัวแปรที่ใช้ในการคำนวณ\n",
        "df_final_clean = df_final_clean.dropna(subset=['temp_15d_avg', 'rain_15d_avg', 'humid_15d_avg', 'gender_code', target])\n",
        "\n",
        "# คำนวณค่า p-value\n",
        "results = []\n",
        "\n",
        "# 1) Spearman correlation กับตัวแปรเชิงปริมาณ\n",
        "for var in numeric_vars:\n",
        "    corr, p = spearmanr(df_final_clean[var], df_final_clean[target])\n",
        "    results.append({\n",
        "        'Variable': var,\n",
        "        'Test': 'Spearman Correlation',\n",
        "        'Stat': round(corr, 3),\n",
        "        'P-Value': round(p, 4)\n",
        "    })\n",
        "\n",
        "# 2) Point-Biserial correlation กับตัวแปรไบนารี\n",
        "for var in binary_cats:\n",
        "    encoded_var = var + '_code'  # ชื่อคอลัมน์ที่แปลงจากเพศ\n",
        "    if encoded_var in df_final_clean.columns and df_final_clean[encoded_var].nunique() == 2:\n",
        "        corr, p = pointbiserialr(df_final_clean[encoded_var], df_final_clean[target])\n",
        "        results.append({\n",
        "            'Variable': var,\n",
        "            'Test': 'Point-Biserial',\n",
        "            'Stat': round(corr, 3),\n",
        "            'P-Value': round(p, 4)\n",
        "        })\n",
        "\n",
        "# 3) Kruskal-Wallis test กับตัวแปรหลายกลุ่ม\n",
        "for var in multi_cats:\n",
        "    df_non_null = df_final_clean.dropna(subset=[var])\n",
        "    groups = [group[target].dropna() for name, group in df_non_null.groupby(var)]\n",
        "    if len(groups) > 1:\n",
        "        h_stat, p = kruskal(*groups)\n",
        "        results.append({\n",
        "            'Variable': var,\n",
        "            'Test': 'Kruskal-Wallis',\n",
        "            'Stat': round(h_stat, 3),\n",
        "            'P-Value': round(p, 4)\n",
        "        })\n",
        "\n",
        "# แสดงผล\n",
        "results_df = pd.DataFrame(results).sort_values('P-Value')\n",
        "print(\"\\n📊 ผลวิเคราะห์เชิงเดี่ยว (เรียงตาม p-value):\")\n",
        "print(results_df)\n"
      ],
      "metadata": {
        "id": "BticRF0EwOKf"
      },
      "execution_count": null,
      "outputs": []
    },
    {
      "cell_type": "code",
      "source": [
        "import pandas as pd\n",
        "import scipy.stats as stats\n",
        "from scipy.stats import spearmanr, pointbiserialr, kruskal\n",
        "\n",
        "# เลือกตัวแปรที่ใช้\n",
        "target = 'cases'\n",
        "numeric_vars = ['temp_15d_avg', 'rain_15d_avg', 'humid_15d_avg', 'อายุ(ปี)']  # รวม 'อายุ(ปี)'\n",
        "binary_cats = ['เพศ']\n",
        "multi_cats = ['อาชีพ', 'ตำบล', 'อำเภอ', 'เดือน', 'ปี', 'ไตรมาส', 'ฤดูกาล']  # รวมตัวแปร 'เดือน', 'ปี', 'ไตรมาส', 'ฤดูกาล'\n",
        "\n",
        "# แปลงเพศเป็นตัวเลข (ชาย=0, หญิง=1)\n",
        "if 'เพศ' in df_final_clean.columns:\n",
        "    df_final_clean['gender_code'] = df_final_clean['เพศ'].map({'ชาย': 0, 'หญิง': 1})\n",
        "\n",
        "# ลบ missing values ที่จำเป็นสำหรับตัวแปรที่ใช้ในการคำนวณ\n",
        "df_final_clean = df_final_clean.dropna(subset=['temp_15d_avg', 'rain_15d_avg', 'humid_15d_avg', 'gender_code', target])\n",
        "\n",
        "# คำนวณค่า p-value\n",
        "results = []\n",
        "\n",
        "# 1) Spearman correlation กับตัวแปรเชิงปริมาณ\n",
        "for var in numeric_vars:\n",
        "    corr, p = spearmanr(df_final_clean[var], df_final_clean[target])\n",
        "    results.append({\n",
        "        'Variable': var,\n",
        "        'Test': 'Spearman Correlation',\n",
        "        'Stat': round(corr, 3),\n",
        "        'P-Value': round(p, 4)\n",
        "    })\n",
        "\n",
        "# 2) Point-Biserial correlation กับตัวแปรไบนารี\n",
        "for var in binary_cats:\n",
        "    encoded_var = var + '_code'  # ชื่อคอลัมน์ที่แปลงจากเพศ\n",
        "    if encoded_var in df_final_clean.columns and df_final_clean[encoded_var].nunique() == 2:\n",
        "        corr, p = pointbiserialr(df_final_clean[encoded_var], df_final_clean[target])\n",
        "        results.append({\n",
        "            'Variable': var,\n",
        "            'Test': 'Point-Biserial',\n",
        "            'Stat': round(corr, 3),\n",
        "            'P-Value': round(p, 4)\n",
        "        })\n",
        "\n",
        "# 3) Kruskal-Wallis test กับตัวแปรหลายกลุ่ม\n",
        "for var in multi_cats:\n",
        "    df_non_null = df_final_clean.dropna(subset=[var])\n",
        "    groups = [group[target].dropna() for name, group in df_non_null.groupby(var)]\n",
        "    if len(groups) > 1:\n",
        "        h_stat, p = kruskal(*groups)\n",
        "        results.append({\n",
        "            'Variable': var,\n",
        "            'Test': 'Kruskal-Wallis',\n",
        "            'Stat': round(h_stat, 3),\n",
        "            'P-Value': round(p, 4)\n",
        "        })\n",
        "\n",
        "# แปลงผลลัพธ์เป็น DataFrame\n",
        "results_df = pd.DataFrame(results).sort_values('P-Value')\n",
        "\n",
        "# กรองเฉพาะตัวแปรที่มี p-value < 0.05\n",
        "significant_results_df = results_df[results_df['P-Value'] < 0.05]\n",
        "\n",
        "# แสดงผล\n",
        "print(\"\\n📊 ผลวิเคราะห์เชิงเดี่ยว (ตัวแปรที่มี p-value < 0.05):\")\n",
        "print(significant_results_df)\n"
      ],
      "metadata": {
        "id": "Tjas_15qMqdd"
      },
      "execution_count": null,
      "outputs": []
    },
    {
      "cell_type": "markdown",
      "source": [
        "# ขั้นตอน 9: วิเคราะห์เชิงพหุด้วย Negative Binomial Regression"
      ],
      "metadata": {
        "id": "snd6z7VFwSNs"
      }
    },
    {
      "cell_type": "code",
      "source": [
        "print(df_final_clean.columns)  # ตรวจสอบคอลัมน์ทั้งหมดใน DataFrame\n"
      ],
      "metadata": {
        "id": "LgP1JD5oa6oY"
      },
      "execution_count": null,
      "outputs": []
    },
    {
      "cell_type": "code",
      "source": [
        "df_final_clean.rename(columns={\n",
        "    'date': 'date',\n",
        "    'cases': 'cases',\n",
        "    'temp_15d_avg': 'temp_15d_avg',\n",
        "    'rain_15d_avg': 'rain_15d_avg',\n",
        "    'humid_15d_avg': 'humid_15d_avg',\n",
        "    'อายุ(ปี)': 'age',\n",
        "    'เพศ': 'gender',\n",
        "    'อาชีพ': 'occupation',\n",
        "    'ตำบล': 'subdistrict',\n",
        "    'อำเภอ': 'district',\n",
        "    'เดือน': 'month',\n",
        "    'ปี': 'year',\n",
        "    'ไตรมาส': 'quarter',\n",
        "    'ฤดูกาล': 'season',\n",
        "    'gender_code': 'gender_code'\n",
        "}, inplace=True)\n"
      ],
      "metadata": {
        "id": "vnZa-ue9Vbrp"
      },
      "execution_count": null,
      "outputs": []
    },
    {
      "cell_type": "code",
      "source": [
        "import statsmodels.api as sm  # นำเข้า statsmodels\n"
      ],
      "metadata": {
        "id": "7m6FfUuR2qR6"
      },
      "execution_count": null,
      "outputs": []
    },
    {
      "cell_type": "code",
      "source": [
        "# แปลงคอลัมน์ที่เป็น categorical ให้เป็น dtype 'category' (ตัวแปรหมวดหมู่)\n",
        "df_final_clean['occupation'] = df_final_clean['occupation'].astype('category')\n",
        "df_final_clean['subdistrict'] = df_final_clean['subdistrict'].astype('category')\n",
        "df_final_clean['district'] = df_final_clean['district'].astype('category')\n",
        "df_final_clean['season'] = df_final_clean['season'].astype('category')\n",
        "df_final_clean['quarter'] = df_final_clean['quarter'].astype('category')\n",
        "\n",
        "# ตรวจสอบข้อมูลใหม่\n",
        "print(df_final_clean.dtypes)\n"
      ],
      "metadata": {
        "id": "W0IjCB5OwTBZ"
      },
      "execution_count": null,
      "outputs": []
    },
    {
      "cell_type": "code",
      "source": [
        "# ลบคอลัมน์ season ที่ซ้ำ\n",
        "df_final_clean = df_final_clean.loc[:, ~df_final_clean.columns.duplicated()]\n",
        "\n",
        "# สร้างโมเดล Negative Binomial\n",
        "nb_model = smf.glm(\n",
        "    formula=formula,\n",
        "    data=df_final_clean,\n",
        "    family=sm.families.NegativeBinomial()  # ใช้ sm.families.NegativeBinomial()\n",
        ").fit()\n",
        "\n",
        "# แสดงผลลัพธ์ของโมเดล\n",
        "print(nb_model.summary())\n"
      ],
      "metadata": {
        "id": "qWCfTn4MXV0c"
      },
      "execution_count": null,
      "outputs": []
    },
    {
      "cell_type": "code",
      "source": [
        "# สรุปเฉพาะตัวแปรที่มีนัยสำคัญ p-value < 0.05\n",
        "summary_df = nb_model.summary2().tables[1]\n",
        "significant_vars = summary_df[summary_df['P>|z|'] < 0.05]\n",
        "\n",
        "print(\"\\n📌 ตัวแปรที่มีนัยสำคัญ (p-value < 0.05):\")\n",
        "print(significant_vars[['Coef.', 'Std.Err.', 'z', 'P>|z|']])\n"
      ],
      "metadata": {
        "id": "3W3DbpleXepd"
      },
      "execution_count": null,
      "outputs": []
    },
    {
      "cell_type": "code",
      "source": [
        "# ตรวจสอบ overdispersion\n",
        "mean_cases = df_final_clean['cases'].mean()\n",
        "var_cases = df_final_clean['cases'].var()\n",
        "\n",
        "print(f\"\\nMean of cases: {mean_cases:.4f}\")\n",
        "print(f\"Variance of cases: {var_cases:.4f}\")\n",
        "\n",
        "# ตรวจสอบว่าเกิด overdispersion หรือไม่\n",
        "if var_cases > mean_cases:\n",
        "    print(\"📈 มี overdispersion → เหมาะกับ Negative Binomial\")\n",
        "else:\n",
        "    print(\"📉 ไม่มี overdispersion → อาจไม่เหมาะกับ Negative Binomial\")\n"
      ],
      "metadata": {
        "id": "FeM2HKy2XiST"
      },
      "execution_count": null,
      "outputs": []
    },
    {
      "cell_type": "code",
      "source": [
        "from sklearn.preprocessing import StandardScaler\n",
        "\n",
        "# การปรับข้อมูลให้เป็นมาตรฐาน (Standardization)\n",
        "scaler = StandardScaler()\n",
        "\n",
        "# ทำการ normalize ข้อมูลที่ใช้ในการพยากรณ์\n",
        "df_final_clean[['temp_15d_avg', 'rain_15d_avg', 'humid_15d_avg']] = scaler.fit_transform(\n",
        "    df_final_clean[['temp_15d_avg', 'rain_15d_avg', 'humid_15d_avg']])\n",
        "\n",
        "# สร้างโมเดล Negative Binomial ใหม่\n",
        "nb_model = smf.glm(\n",
        "    formula=formula,\n",
        "    data=df_final_clean,\n",
        "    family=sm.families.NegativeBinomial()\n",
        ").fit()\n",
        "\n",
        "# ผลลัพธ์ใหม่\n",
        "predictions = nb_model.predict(df_final_clean)\n"
      ],
      "metadata": {
        "id": "F008IJYuXkET"
      },
      "execution_count": null,
      "outputs": []
    },
    {
      "cell_type": "code",
      "source": [
        "# Use rolling average for smoothing\n",
        "predictions_smooth = predictions.rolling(window=10).mean()\n",
        "actual_cases_smooth = df_final_clean['cases'].rolling(window=10).mean()\n",
        "\n",
        "# กราฟใหม่\n",
        "plt.figure(figsize=(10,6))\n",
        "plt.plot(predictions_smooth, label='Predicted Cases', color='blue')\n",
        "plt.plot(actual_cases_smooth, label='Actual Cases', color='red', alpha=0.6)\n",
        "plt.title(\"Smoothed Predicted vs Actual Cases\")\n",
        "plt.xlabel(\"Index\")\n",
        "plt.ylabel(\"Number of Cases\")\n",
        "plt.legend()\n",
        "plt.show()\n"
      ],
      "metadata": {
        "id": "Y79Yi9NEXnjz"
      },
      "execution_count": null,
      "outputs": []
    },
    {
      "cell_type": "code",
      "source": [
        "import xgboost as xgb\n",
        "from sklearn.model_selection import train_test_split\n",
        "from sklearn.metrics import mean_squared_error, r2_score\n",
        "from sklearn.preprocessing import LabelEncoder\n",
        "import numpy as np\n",
        "import matplotlib.pyplot as plt\n",
        "\n",
        "# เลือกเฉพาะตัวแปรที่มีนัยสำคัญ\n",
        "significant_columns = ['month', 'rain_15d_avg', 'humid_15d_avg', 'subdistrict']\n",
        "\n",
        "# แปลง categorical variables ให้เป็นตัวเลข\n",
        "df_final_clean_encoded = df_final_clean[significant_columns].copy()\n",
        "\n",
        "# ใช้ LabelEncoder สำหรับแปลงตัวแปรเชิงหมวดหมู่ให้เป็นตัวเลข\n",
        "label_encoder = LabelEncoder()\n",
        "df_final_clean_encoded['subdistrict'] = label_encoder.fit_transform(df_final_clean_encoded['subdistrict'])\n",
        "\n",
        "# สร้าง X และ y\n",
        "X = df_final_clean_encoded\n",
        "y = df_final_clean['cases']\n",
        "\n",
        "# แบ่งข้อมูลเป็นชุดฝึกและทดสอบ\n",
        "X_train, X_test, y_train, y_test = train_test_split(X, y, test_size=0.2, random_state=42)\n",
        "\n",
        "# สร้างโมเดล XGBoost และปรับพารามิเตอร์\n",
        "model = xgb.XGBRegressor(\n",
        "    objective='reg:squarederror',\n",
        "    eval_metric='rmse',\n",
        "    max_depth=5,        # ลดความลึกของต้นไม้\n",
        "    learning_rate=0.05,  # ลดค่าความเร็วในการเรียนรู้\n",
        "    n_estimators=500,   # เพิ่มจำนวนต้นไม้\n",
        "    colsample_bytree=0.8,  # ตัวแปรที่ใช้ในการแบ่งแต่ละต้นไม้\n",
        "    subsample=0.7,         # ขนาดของแต่ละชุดย่อยในการฝึก\n",
        "    gamma=0.1           # การปรับให้โมเดลไม่ฟิตมากเกินไป\n",
        ")\n",
        "\n",
        "# ฝึกโมเดล\n",
        "model.fit(X_train, y_train)\n",
        "\n",
        "# ทำนายค่าบนชุดทดสอบ\n",
        "y_pred = model.predict(X_test)\n",
        "\n",
        "# คำนวณค่า MSE (Mean Squared Error)\n",
        "mse = mean_squared_error(y_test, y_pred)\n",
        "rmse = np.sqrt(mse)  # คำนวณค่ารากที่สองของ MSE\n",
        "print(f\"RMSE: {rmse}\")\n",
        "\n",
        "# คำนวณค่า R² (Coefficient of Determination)\n",
        "r2 = r2_score(y_test, y_pred)\n",
        "print(f\"R²: {r2}\")\n",
        "\n",
        "# กราฟเปรียบเทียบผลทำนายและค่าจริง\n",
        "plt.figure(figsize=(10,6))\n",
        "plt.plot(y_test.values, label='Actual Cases', color='red')\n",
        "plt.plot(y_pred, label='Predicted Cases', color='blue')\n",
        "plt.title('Predicted vs Actual Cases')\n",
        "plt.xlabel('Index')\n",
        "plt.ylabel('Number of Cases')\n",
        "plt.legend()\n",
        "plt.show()\n",
        "\n",
        "# คำนวณ Feature Importance\n",
        "xgb.plot_importance(model, importance_type='weight', max_num_features=10, title=\"Feature Importance\")\n",
        "plt.show()\n"
      ],
      "metadata": {
        "id": "2cA5jlADcEHP"
      },
      "execution_count": null,
      "outputs": []
    },
    {
      "cell_type": "markdown",
      "source": [
        "# XGBoost"
      ],
      "metadata": {
        "id": "mpljdokceuSn"
      }
    },
    {
      "cell_type": "code",
      "source": [
        "import xgboost as xgb\n",
        "from sklearn.model_selection import train_test_split\n",
        "from sklearn.metrics import mean_squared_error, r2_score\n",
        "from sklearn.preprocessing import LabelEncoder\n",
        "import numpy as np\n",
        "import matplotlib.pyplot as plt\n",
        "import pandas as pd\n",
        "\n",
        "# เลือกเฉพาะตัวแปรที่มีนัยสำคัญ\n",
        "significant_columns = ['rain_15d_avg', 'humid_15d_avg', 'month', 'subdistrict']\n",
        "\n",
        "# แปลง categorical variables ให้เป็นตัวเลข\n",
        "df_final_clean_encoded = df_final_clean[significant_columns].copy()\n",
        "\n",
        "# ใช้ One-Hot Encoding สำหรับแปลงตัวแปร subdistrict เป็นค่าดิจิตอล\n",
        "df_final_clean_encoded = pd.get_dummies(df_final_clean_encoded, columns=['subdistrict'], drop_first=True)\n",
        "\n",
        "# ใช้ LabelEncoder สำหรับแปลงตัวแปรเดือน\n",
        "label_encoder = LabelEncoder()\n",
        "df_final_clean_encoded['month'] = label_encoder.fit_transform(df_final_clean_encoded['month'])\n",
        "\n",
        "# สร้าง X และ y\n",
        "X = df_final_clean_encoded\n",
        "y = df_final_clean['cases']\n",
        "\n",
        "# แบ่งข้อมูลเป็นชุดฝึกและทดสอบ\n",
        "X_train, X_test, y_train, y_test = train_test_split(X, y, test_size=0.2, random_state=42)\n",
        "\n",
        "# สร้างโมเดล XGBoost และปรับพารามิเตอร์\n",
        "model = xgb.XGBRegressor(\n",
        "    objective='reg:squarederror',\n",
        "    eval_metric='rmse',\n",
        "    max_depth=5,        # ลดความลึกของต้นไม้\n",
        "    learning_rate=0.05,  # ลดค่าความเร็วในการเรียนรู้\n",
        "    n_estimators=500,   # เพิ่มจำนวนต้นไม้\n",
        "    colsample_bytree=0.8,  # ตัวแปรที่ใช้ในการแบ่งแต่ละต้นไม้\n",
        "    subsample=0.7,         # ขนาดของแต่ละชุดย่อยในการฝึก\n",
        "    gamma=0.1           # การปรับให้โมเดลไม่ฟิตมากเกินไป\n",
        ")\n",
        "\n",
        "# ฝึกโมเดล\n",
        "model.fit(X_train, y_train)\n",
        "\n",
        "# ทำนายค่าบนชุดทดสอบ\n",
        "y_pred = model.predict(X_test)\n",
        "\n",
        "# คำนวณค่า MSE (Mean Squared Error)\n",
        "mse = mean_squared_error(y_test, y_pred)\n",
        "rmse = np.sqrt(mse)  # คำนวณค่ารากที่สองของ MSE\n",
        "print(f\"RMSE: {rmse}\")\n",
        "\n",
        "# คำนวณค่า R² (Coefficient of Determination)\n",
        "r2 = r2_score(y_test, y_pred)\n",
        "print(f\"R²: {r2}\")\n",
        "\n",
        "# กราฟเปรียบเทียบผลทำนายและค่าจริง\n",
        "plt.figure(figsize=(10,6))\n",
        "plt.plot(y_test.values, label='Actual Cases', color='red')\n",
        "plt.plot(y_pred, label='Predicted Cases', color='blue')\n",
        "plt.title('Predicted vs Actual Cases')\n",
        "plt.xlabel('Index')\n",
        "plt.ylabel('Number of Cases')\n",
        "plt.legend()\n",
        "plt.show()\n",
        "\n",
        "# คำนวณ Feature Importance\n",
        "xgb.plot_importance(model, importance_type='weight', max_num_features=10, title=\"Feature Importance\")\n",
        "plt.show()\n"
      ],
      "metadata": {
        "id": "EhDvcq3mvIg_"
      },
      "execution_count": null,
      "outputs": []
    },
    {
      "cell_type": "markdown",
      "source": [
        "# Gradient Boosting"
      ],
      "metadata": {
        "id": "B5j9pzbeeo3n"
      }
    },
    {
      "cell_type": "code",
      "source": [
        "from sklearn.ensemble import GradientBoostingRegressor\n",
        "from sklearn.model_selection import train_test_split\n",
        "from sklearn.metrics import mean_squared_error, r2_score\n",
        "from sklearn.preprocessing import LabelEncoder\n",
        "import numpy as np\n",
        "import matplotlib.pyplot as plt\n",
        "\n",
        "# เลือกเฉพาะตัวแปรที่มีนัยสำคัญ\n",
        "significant_columns = ['rain_15d_avg', 'month', 'subdistrict', 'humid_15d_avg']\n",
        "\n",
        "# แปลง categorical variables ให้เป็นตัวเลข\n",
        "df_final_clean_encoded = df_final_clean[significant_columns].copy()\n",
        "\n",
        "# ใช้ LabelEncoder สำหรับแปลงตัวแปรเชิงหมวดหมู่ให้เป็นตัวเลข\n",
        "label_encoder = LabelEncoder()\n",
        "df_final_clean_encoded['subdistrict'] = label_encoder.fit_transform(df_final_clean_encoded['subdistrict'])\n",
        "\n",
        "# สร้าง X และ y\n",
        "X = df_final_clean_encoded\n",
        "y = df_final_clean['cases']\n",
        "\n",
        "# แบ่งข้อมูลเป็นชุดฝึกและทดสอบ\n",
        "X_train, X_test, y_train, y_test = train_test_split(X, y, test_size=0.2, random_state=42)\n",
        "\n",
        "# สร้างโมเดล Gradient Boosting\n",
        "gb_model = GradientBoostingRegressor(n_estimators=100, learning_rate=0.1, max_depth=5)\n",
        "\n",
        "# ฝึกโมเดล\n",
        "gb_model.fit(X_train, y_train)\n",
        "\n",
        "# ทำนายค่าบนชุดทดสอบ\n",
        "y_pred = gb_model.predict(X_test)\n",
        "\n",
        "# คำนวณค่า MSE (Mean Squared Error)\n",
        "mse = mean_squared_error(y_test, y_pred)\n",
        "rmse = np.sqrt(mse)  # คำนวณค่ารากที่สองของ MSE\n",
        "print(f\"RMSE: {rmse}\")\n",
        "\n",
        "# คำนวณค่า R² (Coefficient of Determination)\n",
        "r2 = r2_score(y_test, y_pred)\n",
        "print(f\"R²: {r2}\")\n",
        "\n",
        "# กราฟเปรียบเทียบผลทำนายและค่าจริง\n",
        "plt.figure(figsize=(10,6))\n",
        "plt.plot(y_test.values, label='Actual Cases', color='red')\n",
        "plt.plot(y_pred, label='Predicted Cases', color='blue')\n",
        "plt.title('Predicted vs Actual Cases')\n",
        "plt.xlabel('Index')\n",
        "plt.ylabel('Number of Cases')\n",
        "plt.legend()\n",
        "plt.show()\n"
      ],
      "metadata": {
        "id": "uyL1lRAL0LrT"
      },
      "execution_count": null,
      "outputs": []
    }
  ]
}