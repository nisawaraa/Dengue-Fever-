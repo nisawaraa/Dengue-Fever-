{
  "nbformat": 4,
  "nbformat_minor": 0,
  "metadata": {
    "colab": {
      "private_outputs": true,
      "provenance": []
    },
    "kernelspec": {
      "name": "python3",
      "display_name": "Python 3"
    },
    "language_info": {
      "name": "python"
    }
  },
  "cells": [
    {
      "cell_type": "code",
      "source": [],
      "metadata": {
        "id": "nL_UEuciHQLH"
      },
      "execution_count": null,
      "outputs": []
    },
    {
      "cell_type": "code",
      "source": [],
      "metadata": {
        "id": "KCt9r8gpUic8"
      },
      "execution_count": null,
      "outputs": []
    },
    {
      "cell_type": "code",
      "source": [],
      "metadata": {
        "id": "eM2qSlq8Uifp"
      },
      "execution_count": null,
      "outputs": []
    },
    {
      "cell_type": "markdown",
      "source": [
        "# เริ่มใหม่"
      ],
      "metadata": {
        "id": "wBixnB1q2n7y"
      }
    },
    {
      "cell_type": "markdown",
      "source": [
        "# โหลดข้อมูลสภาพอากาศรายวัน"
      ],
      "metadata": {
        "id": "dZ1x2CMzHQyT"
      }
    },
    {
      "cell_type": "code",
      "source": [
        "import pandas as pd\n",
        "\n",
        "# โหลดข้อมูลจากทุกชีทใน rain.xlsx\n",
        "file_path = 'rain.xlsx'\n",
        "xls = pd.ExcelFile(file_path)\n",
        "\n",
        "df_list = []\n",
        "for sheet in xls.sheet_names:\n",
        "    df = pd.read_excel(xls, sheet_name=sheet)\n",
        "    df = df.rename(columns={'ปี': 'year', 'เดือน': 'month', 'วันที่': 'day'}) #เปลี่ยนชื่อไทยเป็นอิ้ง\n",
        "    df['วัน'] = pd.to_datetime(df[['year', 'month', 'day']]) #สร้างตอลัมใหม่ วัน ใช้pd\n",
        "    df_list.append(df) #เพ่มดาต้าเฟรมเ้าไปในลิส df list\n",
        "\n",
        "# รวมชีททั้งหมดเข้าด้วยกันและเรียงตามวัน\n",
        "weather_all = pd.concat(df_list, ignore_index=True)\n",
        "weather_all = weather_all.sort_values('วัน').reset_index(drop=True)\n",
        "weather_all.to_excel('rain_all_years_sorted.xlsx', index=False)\n",
        "print(\"✅ บันทึกไฟล์ rain_all_years_sorted.xlsx เรียบร้อยแล้ว\")\n"
      ],
      "metadata": {
        "id": "dCOpsFsrHUZ-"
      },
      "execution_count": null,
      "outputs": []
    },
    {
      "cell_type": "markdown",
      "source": [
        "# โหลดข้อมูลผู้ป่วย"
      ],
      "metadata": {
        "id": "XtXBoEB9HXEq"
      }
    },
    {
      "cell_type": "code",
      "source": [
        "# โหลดข้อมูลผู้ป่วยจากทุกชีท\n",
        "xls = pd.ExcelFile('DHFcc12.xlsx')\n",
        "df_list = []\n",
        "\n",
        "for sheet in xls.sheet_names:\n",
        "    df = pd.read_excel(xls, sheet_name=sheet)\n",
        "    df['วันเริ่มป่วย'] = pd.to_datetime(df['วันเริ่มป่วย'], errors='coerce') #ใช้ pd.to_datetime() เพื่อแปลงค่าคอลัมน์ 'วันเริ่มป่วย' เป็นชนิด datetime\n",
        "    df_list.append(df)\n",
        "\n",
        "patients = pd.concat(df_list, ignore_index=True)\n",
        "patients = patients.dropna(subset=['วันเริ่มป่วย'])  # ลบแถวที่ไม่มีวันเริ่มป่วย เนา\n",
        "print(f\"จำนวนผู้ป่วยที่มีวันเริ่มป่วย: {len(patients)}\")\n"
      ],
      "metadata": {
        "id": "wliy25bBHYHy"
      },
      "execution_count": null,
      "outputs": []
    },
    {
      "cell_type": "markdown",
      "source": [
        "# คำนวณค่าอุณหภูมิและฝนย้อนหลัง 15 วัน"
      ],
      "metadata": {
        "id": "fj1DGh2wHagP"
      }
    },
    {
      "cell_type": "code",
      "source": [
        "weather = pd.read_excel('rain_all_years_sorted.xlsx')\n",
        "weather['วัน'] = pd.to_datetime(weather['วัน'])\n",
        "\n",
        "def get_rolling_avg(date, n_days=15):\n",
        "    start_date = date - pd.Timedelta(days=n_days) #หาวันที่เริ่มต้นของช่วงเวลาย้อนหลัง (15 วันก่อน date)\n",
        "    mask = (weather['วัน'] >= start_date) & (weather['วัน'] < date)\n",
        "    subset = weather.loc[mask] #ใช้ mask ที่ได้จากด้านบนกรองข้อมูลสภาพอากาศช่วง 15 วันย้อนหลัง\n",
        "    if subset.empty:\n",
        "        return pd.Series([None, None]) #ถ้าไม่มีข้อมูลส่งคืน None\n",
        "    return pd.Series([\n",
        "        subset['อุณหภูมิ'].mean(),\n",
        "        subset['ฝน'].mean()\n",
        "    ])\n",
        "\n",
        "patients[['temp_15d_avg', 'rain_15d_avg']] = patients['วันเริ่มป่วย'].apply(get_rolling_avg)\n",
        "print(\"✅ คำนวณค่าเฉลี่ย temp และ rain ย้อนหลัง 15 วันเสร็จสิ้น\")\n"
      ],
      "metadata": {
        "id": "xOBvLbB3HcoC"
      },
      "execution_count": null,
      "outputs": []
    },
    {
      "cell_type": "markdown",
      "source": [
        "# สร้างตัวแปรตามเวลา (เดือน ไตรมาส ฤดูกาล)"
      ],
      "metadata": {
        "id": "LNowSB7CHfRL"
      }
    },
    {
      "cell_type": "code",
      "source": [
        "# ดึงข้อมูลปี เดือน ไตรมาส จากวันเริ่มป่วย\n",
        "patients['ปี'] = patients['วันเริ่มป่วย'].dt.year\n",
        "patients['เดือน'] = patients['วันเริ่มป่วย'].dt.month\n",
        "patients['ไตรมาส'] = patients['วันเริ่มป่วย'].dt.quarter\n",
        "\n",
        "# ฟังก์ชันแบ่งฤดูแบบอิงตามข้อมูลจริงของไทย\n",
        "def assign_season(row):\n",
        "    month = row['เดือน']\n",
        "    day = row['วันเริ่มป่วย'].day\n",
        "\n",
        "    if (month == 2 and day >= 15) or month in [3, 4] or (month == 5 and day < 15):\n",
        "        return 'Summer'\n",
        "    elif (month == 5 and day >= 15) or month in [6, 7, 8, 9] or (month == 10 and day < 15):\n",
        "        return 'Rainy'\n",
        "    else:\n",
        "        return 'Winter'\n",
        "\n",
        "# ใช้ฟังก์ชันกับแต่ละแถว\n",
        "patients['ฤดูกาล'] = patients.apply(assign_season, axis=1)\n"
      ],
      "metadata": {
        "id": "iqEpkEnoHhcv"
      },
      "execution_count": null,
      "outputs": []
    },
    {
      "cell_type": "markdown",
      "source": [
        "# สร้างตารางสรุปรายวัน"
      ],
      "metadata": {
        "id": "RqSVf1YOHlZb"
      }
    },
    {
      "cell_type": "code",
      "source": [
        "daily_counts = patients.groupby('วันพบผป').size().reset_index(name='จำนวนผู้ป่วย')\n",
        "\n",
        "daily_weather = patients.groupby('วันพบผป').agg({\n",
        "    'temp_15d_avg': 'mean',\n",
        "    'rain_15d_avg': 'mean'\n",
        "}).reset_index()\n",
        "\n",
        "df_analysis = pd.merge(daily_counts, daily_weather, on='วันพบผป', how='left')\n"
      ],
      "metadata": {
        "id": "SjV1eJmsHmPI"
      },
      "execution_count": null,
      "outputs": []
    },
    {
      "cell_type": "code",
      "source": [
        "df_analysis.head()\n"
      ],
      "metadata": {
        "id": "hp5kCx0a61qy"
      },
      "execution_count": null,
      "outputs": []
    },
    {
      "cell_type": "markdown",
      "source": [
        "# : รวมข้อมูลอื่น ๆ (Demographic และภูมิศาสตร์)"
      ],
      "metadata": {
        "id": "qEVc2ZazHo6p"
      }
    },
    {
      "cell_type": "code",
      "source": [
        "daily_vars = patients.groupby('วันพบผป').agg({\n",
        "    'อายุ(ปี)': 'mean',\n",
        "    'อายุ(เดือน)': 'mean',\n",
        "    'เพศ': lambda x: x.mode()[0] if not x.mode().empty else None,   # หาค่าที่พบบ่อยที่สุดของเพศ\n",
        "    'อาชีพ': lambda x: x.mode()[0] if not x.mode().empty else None,\n",
        "    'ชื่อหมู่บ้าน': lambda x: x.mode()[0] if not x.mode().empty else None,\n",
        "    'ตำบล': lambda x: x.mode()[0] if not x.mode().empty else None,\n",
        "    'อำเภอ': lambda x: x.mode()[0] if not x.mode().empty else None,\n",
        "    'เดือน': lambda x: x.mode()[0] if not x.mode().empty else None,\n",
        "    'ปี': lambda x: x.mode()[0] if not x.mode().empty else None,\n",
        "    'ไตรมาส': lambda x: x.mode()[0] if not x.mode().empty else None, # ไตรมาสที่พบบ่อยที่สุด\n",
        "    'ฤดูกาล': lambda x: x.mode()[0] if not x.mode().empty else None\n",
        "}).reset_index()\n",
        "\n",
        "df_analysis = pd.merge(df_analysis, daily_vars, on='วันพบผป', how='left')\n"
      ],
      "metadata": {
        "id": "SRbOq9auHqZZ"
      },
      "execution_count": null,
      "outputs": []
    },
    {
      "cell_type": "code",
      "source": [
        "print(daily_vars.head())\n"
      ],
      "metadata": {
        "id": "T9JuClh77wQ7"
      },
      "execution_count": null,
      "outputs": []
    },
    {
      "cell_type": "markdown",
      "source": [
        "# ตรวจสอบความสัมพันธ์ (Correlation / Chi-Square)"
      ],
      "metadata": {
        "id": "qTxpJUaSH1vF"
      }
    },
    {
      "cell_type": "code",
      "source": [],
      "metadata": {
        "id": "OpN397s_9gw0"
      },
      "execution_count": null,
      "outputs": []
    },
    {
      "cell_type": "code",
      "source": [
        "from scipy.stats import chi2_contingency\n",
        "\n",
        "# --- แยกตัวแปร ---\n",
        "numeric_vars = ['อายุ(ปี)_y', 'อายุ(เดือน)_y', 'temp_15d_avg', 'rain_15d_avg']\n",
        "categorical_vars = ['เพศ_y', 'อาชีพ_y', 'ชื่อหมู่บ้าน_y', 'ตำบล_y', 'อำเภอ_y', 'เดือน_y', 'ปี_y', 'ไตรมาส_y', 'ฤดูกาล_y']\n",
        "\n",
        "\n",
        "\n",
        "# --- สร้างคอลัมน์กลุ่มจำนวนผู้ป่วยแบบแบ่ง 3 กลุ่ม ---\n",
        "df_analysis['จำนวนผู้ป่วยกลุ่ม'] = pd.qcut(df_analysis['จำนวนผู้ป่วย'], q=3, labels=False, duplicates='drop')\n",
        "\n",
        "# === Correlation ===\n",
        "print(\"=== Numeric Variables Correlation with จำนวนผู้ป่วย ===\")\n",
        "for var in numeric_vars:\n",
        "    corr = df_analysis[var].corr(df_analysis['จำนวนผู้ป่วย'])\n",
        "    print(f\"{var} vs จำนวนผู้ป่วย: correlation = {corr:.4f}\")\n",
        "\n",
        "# === Chi-square test ===\n",
        "print(\"\\n=== Categorical Variables Association with จำนวนผู้ป่วย (Chi-square test) ===\")\n",
        "for var in categorical_vars:\n",
        "    table = pd.crosstab(df_analysis[var], df_analysis['จำนวนผู้ป่วยกลุ่ม'])\n",
        "    if table.shape[0] < 2 or table.shape[1] < 2:\n",
        "        print(f\"{var} – ข้อมูลไม่พอสำหรับ Chi-square\")\n",
        "        continue\n",
        "    chi2, p, dof, ex = chi2_contingency(table)\n",
        "    print(f\"{var} vs จำนวนผู้ป่วย (กลุ่ม): p-value = {p:.4f}\")\n"
      ],
      "metadata": {
        "id": "dL1IFBhEH3s0"
      },
      "execution_count": null,
      "outputs": []
    },
    {
      "cell_type": "code",
      "source": [
        "print(df_analysis.columns.tolist())\n"
      ],
      "metadata": {
        "id": "nXCjkDJkLokh"
      },
      "execution_count": null,
      "outputs": []
    },
    {
      "cell_type": "markdown",
      "source": [
        "# Regression Modeling (Poisson และ NB)"
      ],
      "metadata": {
        "id": "FQrXl_m4H87X"
      }
    },
    {
      "cell_type": "code",
      "source": [
        "import statsmodels.api as sm\n",
        "import statsmodels.formula.api as smf\n",
        "\n",
        "df_analysis.rename(columns={\n",
        "    'จำนวนผู้ป่วย': 'cases',\n",
        "    'อายุ(ปี)': 'age_year',\n",
        "    'อายุ(เดือน)': 'age_month',\n",
        "    'เพศ': 'gender',\n",
        "    'อาชีพ': 'occupation',\n",
        "    'ชื่อหมู่บ้าน': 'village',\n",
        "    'ตำบล': 'sub_district',\n",
        "    'อำเภอ': 'district',\n",
        "    'เดือน': 'month',\n",
        "    'ปี': 'year',\n",
        "    'ไตรมาส': 'quarter',\n",
        "    'ฤดูกาล': 'season',\n",
        "    'temp_15d_avg': 'temp',\n",
        "    'rain_15d_avg': 'rain'\n",
        "}, inplace=True)\n",
        "\n",
        "formula = 'cases ~ temp + rain + C(gender) + C(occupation) + C(village) + C(sub_district) + C(district) + C(month) + C(year) + C(quarter) + C(season)'\n",
        "\n",
        "poisson_model = smf.glm(formula=formula, data=df_analysis, family=sm.families.Poisson()).fit()\n",
        "print(poisson_model.summary())\n"
      ],
      "metadata": {
        "id": "5-MSYg6YH-nO"
      },
      "execution_count": null,
      "outputs": []
    },
    {
      "cell_type": "markdown",
      "source": [
        "# ดึงตัวแปรที่มีนัยสำคัญ"
      ],
      "metadata": {
        "id": "o8XR9D9tIK5A"
      }
    },
    {
      "cell_type": "code",
      "source": [
        "import numpy as np\n",
        "\n",
        "summary_df = poisson_model.summary2().tables[1].copy()\n",
        "summary_df['exp(coef)'] = np.exp(summary_df['Coef.'])\n",
        "significant_vars_df = summary_df[summary_df['P>|z|'] < 0.05]\n",
        "print(significant_vars_df[['Coef.', 'P>|z|', 'exp(coef)']])\n"
      ],
      "metadata": {
        "id": "waBdtvptIM4p"
      },
      "execution_count": null,
      "outputs": []
    },
    {
      "cell_type": "markdown",
      "source": [
        "# Machine Learning ด้วย XGBoost & Random Forest"
      ],
      "metadata": {
        "id": "UBkeiZD3IQLg"
      }
    },
    {
      "cell_type": "code",
      "source": [
        "from sklearn.model_selection import train_test_split\n",
        "from xgboost import XGBRegressor\n",
        "from sklearn.ensemble import RandomForestRegressor\n",
        "from sklearn.metrics import mean_squared_error, r2_score\n",
        "\n",
        "X = df_analysis.drop(columns=['cases', 'วันพบผป'])\n",
        "y = df_analysis['cases']\n",
        "\n",
        "X = pd.get_dummies(X, drop_first=True)\n",
        "X_train, X_test, y_train, y_test = train_test_split(X, y, test_size=0.2, random_state=42)\n",
        "X_test = X_test.reindex(columns=X_train.columns, fill_value=0)\n",
        "\n",
        "# --- XGBoost ---\n",
        "xgb_model = XGBRegressor(objective='reg:squarederror', random_state=42)\n",
        "xgb_model.fit(X_train, y_train)\n",
        "y_pred_xgb = xgb_model.predict(X_test)\n",
        "\n",
        "print(\"XGBoost - MSE:\", mean_squared_error(y_test, y_pred_xgb))\n",
        "print(\"XGBoost - R2:\", r2_score(y_test, y_pred_xgb))\n",
        "\n",
        "# --- Random Forest ---\n",
        "rf_model = RandomForestRegressor(random_state=42)\n",
        "rf_model.fit(X_train, y_train)\n",
        "y_pred_rf = rf_model.predict(X_test)\n",
        "\n",
        "print(\"\\nRandom Forest - MSE:\", mean_squared_error(y_test, y_pred_rf))\n",
        "print(\"Random Forest - R2:\", r2_score(y_test, y_pred_rf))\n"
      ],
      "metadata": {
        "id": "aeKjNnU3ISGg"
      },
      "execution_count": null,
      "outputs": []
    },
    {
      "cell_type": "code",
      "source": [
        "pip install joblib\n"
      ],
      "metadata": {
        "id": "lX1Q-ZfjTY4q"
      },
      "execution_count": null,
      "outputs": []
    },
    {
      "cell_type": "code",
      "source": [
        "from xgboost import XGBRegressor\n",
        "from sklearn.ensemble import RandomForestRegressor\n",
        "from sklearn.model_selection import train_test_split\n",
        "from sklearn.metrics import mean_squared_error, r2_score\n",
        "import joblib\n",
        "\n",
        "# 1. เตรียมข้อมูล\n",
        "X = df_analysis.drop(columns=['cases', 'วันพบผป'])\n",
        "y = df_analysis['cases']\n",
        "X = pd.get_dummies(X, drop_first=True)\n",
        "\n",
        "X_train, X_test, y_train, y_test = train_test_split(X, y, test_size=0.2, random_state=42)\n",
        "X_test = X_test.reindex(columns=X_train.columns, fill_value=0)\n",
        "\n",
        "# 2. เทรนและบันทึกโมเดล\n",
        "xgb_model = XGBRegressor(objective='reg:squarederror', random_state=42)\n",
        "xgb_model.fit(X_train, y_train)\n",
        "joblib.dump(xgb_model, 'xgb_model.joblib')\n",
        "\n",
        "rf_model = RandomForestRegressor(random_state=42)\n",
        "rf_model.fit(X_train, y_train)\n",
        "joblib.dump(rf_model, 'rf_model.joblib')\n",
        "\n",
        "# 3. โหลดกลับมา (ตัวอย่าง)\n",
        "xgb_model = joblib.load('xgb_model.joblib')\n",
        "rf_model = joblib.load('rf_model.joblib')\n",
        "\n",
        "# 4. ทำนายและประเมินผล\n",
        "y_pred_xgb = xgb_model.predict(X_test)\n",
        "y_pred_rf = rf_model.predict(X_test)\n",
        "\n",
        "print(\"XGBoost - MSE:\", mean_squared_error(y_test, y_pred_xgb))\n",
        "print(\"XGBoost - R2:\", r2_score(y_test, y_pred_xgb))\n",
        "\n",
        "print(\"\\nRandom Forest - MSE:\", mean_squared_error(y_test, y_pred_rf))\n",
        "print(\"Random Forest - R2:\", r2_score(y_test, y_pred_rf))\n"
      ],
      "metadata": {
        "id": "FVwZAvRTTY7V"
      },
      "execution_count": null,
      "outputs": []
    },
    {
      "cell_type": "code",
      "source": [
        "print(\"df_base columns:\", df_base.columns.tolist())\n",
        "print(\"df_weather columns:\", df_weather.columns.tolist())\n"
      ],
      "metadata": {
        "id": "86Ud5z1KTZBp"
      },
      "execution_count": null,
      "outputs": []
    },
    {
      "cell_type": "code",
      "source": [
        "import pandas as pd\n",
        "import numpy as np\n",
        "from sklearn.model_selection import train_test_split\n",
        "from sklearn.preprocessing import LabelEncoder\n",
        "from sklearn.ensemble import RandomForestRegressor\n",
        "from sklearn.metrics import mean_squared_error, mean_absolute_error, r2_score\n",
        "\n",
        "# --- โหลดข้อมูล ---\n",
        "df_base = pd.read_excel('DHFcc12.xlsx')\n",
        "df_weather = pd.read_excel('rain_all_years_sorted.xlsx')\n",
        "\n",
        "# --- แปลงวันเริ่มป่วยให้อยู่ในรูปแบบ datetime ---\n",
        "df_base['วันเริ่มป่วย'] = pd.to_datetime(df_base['วันเริ่มป่วย'], errors='coerce')\n",
        "df_weather['วันเริ่มป่วย'] = pd.to_datetime(df_weather['วัน'])  # ใช้วันที่เดียวกัน\n",
        "\n",
        "# --- นับจำนวนผู้ป่วยในแต่ละวัน ---\n",
        "df_count = df_base.groupby('วันเริ่มป่วย').size().reset_index(name='จำนวนผู้ป่วย')\n",
        "\n",
        "# --- รวมตารางข้อมูลสภาพอากาศกับจำนวนผู้ป่วย ---\n",
        "df_full = pd.merge(df_count, df_weather, on='วันเริ่มป่วย', how='left')\n",
        "\n",
        "# --- สร้างฟีเจอร์จากวันที่ ---\n",
        "df_full['เดือน'] = df_full['วันเริ่มป่วย'].dt.month\n",
        "df_full['ปี'] = df_full['วันเริ่มป่วย'].dt.year\n",
        "df_full['ไตรมาส'] = df_full['วันเริ่มป่วย'].dt.quarter\n",
        "\n",
        "def assign_season(month):\n",
        "    if month in [3, 4, 5]:\n",
        "        return 'Summer'\n",
        "    elif month in [6, 7, 8, 9]:\n",
        "        return 'Rainy'\n",
        "    else:\n",
        "        return 'Winter'\n",
        "\n",
        "df_full['ฤดูกาล'] = df_full['เดือน'].apply(assign_season)\n",
        "\n",
        "# --- กำหนดชุดฟีเจอร์ ---\n",
        "feature_sets = {\n",
        "    \"ข้อมูลเดิม + อุณหภูมิ\": ['เดือน', 'ปี', 'ไตรมาส', 'ฤดูกาล', 'อุณหภูมิ'],\n",
        "    \"ข้อมูลเดิม + ความชื้น\": ['เดือน', 'ปี', 'ไตรมาส', 'ฤดูกาล', 'ชื้น'],\n",
        "    \"ข้อมูลเดิม + ฝน\": ['เดือน', 'ปี', 'ไตรมาส', 'ฤดูกาล', 'ฝน'],\n",
        "    \"ข้อมูลเดิม + อุณหภูมิ + ความชื้น\": ['เดือน', 'ปี', 'ไตรมาส', 'ฤดูกาล', 'อุณหภูมิ', 'ชื้น'],\n",
        "    \"ข้อมูลเดิม + อุณหภูมิ + ฝน\": ['เดือน', 'ปี', 'ไตรมาส', 'ฤดูกาล', 'อุณหภูมิ', 'ฝน'],\n",
        "    \"ข้อมูลเดิม + ความชื้น + ฝน\": ['เดือน', 'ปี', 'ไตรมาส', 'ฤดูกาล', 'ชื้น', 'ฝน'],\n",
        "    \"ข้อมูลเดิม + อุณหภูมิ + ความชื้น + ฝน\": ['เดือน', 'ปี', 'ไตรมาส', 'ฤดูกาล', 'อุณหภูมิ', 'ชื้น', 'ฝน'],\n",
        "}\n",
        "\n",
        "results = []\n",
        "\n",
        "for name, features in feature_sets.items():\n",
        "    df = df_full[features + ['จำนวนผู้ป่วย']].copy()\n",
        "\n",
        "    # แปลงข้อมูลประเภท object (string) เป็นตัวเลข\n",
        "    for col in df.select_dtypes(include='object').columns:\n",
        "        df[col] = LabelEncoder().fit_transform(df[col].astype(str))\n",
        "\n",
        "    X = df[features]\n",
        "    y = df['จำนวนผู้ป่วย']\n",
        "\n",
        "    X_train, X_test, y_train, y_test = train_test_split(X, y, test_size=0.2, random_state=42)\n",
        "\n",
        "    model = RandomForestRegressor(random_state=42)\n",
        "    model.fit(X_train, y_train)\n",
        "    y_pred = model.predict(X_test)\n",
        "\n",
        "    rmse = np.sqrt(mean_squared_error(y_test, y_pred))\n",
        "    mae = mean_absolute_error(y_test, y_pred)\n",
        "    r2 = r2_score(y_test, y_pred)\n",
        "\n",
        "    results.append({'ชุดข้อมูล': name, 'RMSE': rmse, 'MAE': mae, 'R2': r2})\n",
        "\n",
        "# แสดงผลลัพธ์\n",
        "df_results = pd.DataFrame(results)\n",
        "print(df_results)\n"
      ],
      "metadata": {
        "id": "3QLvIZ_r7VqR"
      },
      "execution_count": null,
      "outputs": []
    },
    {
      "cell_type": "code",
      "source": [
        "import pandas as pd\n",
        "import numpy as np\n",
        "from sklearn.model_selection import train_test_split\n",
        "from sklearn.preprocessing import LabelEncoder\n",
        "from sklearn.metrics import mean_squared_error, mean_absolute_error, r2_score\n",
        "from xgboost import XGBRegressor\n",
        "\n",
        "# --- โหลดข้อมูล ---\n",
        "df_base = pd.read_excel('DHFcc12.xlsx')\n",
        "df_weather = pd.read_excel('rain_all_years_sorted.xlsx')\n",
        "\n",
        "# --- แปลงวันเริ่มป่วยให้อยู่ในรูปแบบ datetime ---\n",
        "df_base['วันเริ่มป่วย'] = pd.to_datetime(df_base['วันเริ่มป่วย'], errors='coerce')\n",
        "df_weather['วัน'] = pd.to_datetime(df_weather['วัน'])\n",
        "df_weather.rename(columns={'วัน': 'วันที่'}, inplace=True)\n",
        "\n",
        "# --- นับจำนวนผู้ป่วยในแต่ละวัน ---\n",
        "df_count = df_base.groupby('วันเริ่มป่วย').size().reset_index(name='จำนวนผู้ป่วย')\n",
        "\n",
        "# --- คำนวณค่าเฉลี่ยย้อนหลัง 15 วัน ---\n",
        "weather_agg = []\n",
        "for date in df_count['วันเริ่มป่วย']:\n",
        "    mask = (df_weather['วันที่'] >= date - pd.Timedelta(days=15)) & (df_weather['วันที่'] < date)\n",
        "    past_weather = df_weather[mask]\n",
        "    weather_agg.append({\n",
        "        'วันเริ่มป่วย': date,\n",
        "        'อุณหภูมิ': past_weather['อุณหภูมิ'].mean(),\n",
        "        'ฝน': past_weather['ฝน'].mean(),\n",
        "        'ชื้น': past_weather['ชื้น'].mean()\n",
        "    })\n",
        "\n",
        "df_weather_agg = pd.DataFrame(weather_agg)\n",
        "\n",
        "# --- รวมข้อมูล ---\n",
        "df_full = pd.merge(df_count, df_weather_agg, on='วันเริ่มป่วย', how='left')\n",
        "\n",
        "# --- สร้างฟีเจอร์จากวันที่ ---\n",
        "df_full['เดือน'] = df_full['วันเริ่มป่วย'].dt.month\n",
        "df_full['ปี'] = df_full['วันเริ่มป่วย'].dt.year\n",
        "df_full['ไตรมาส'] = df_full['วันเริ่มป่วย'].dt.quarter\n",
        "\n",
        "def assign_season(month):\n",
        "    if month in [3, 4, 5]:\n",
        "        return 'Summer'\n",
        "    elif month in [6, 7, 8, 9]:\n",
        "        return 'Rainy'\n",
        "    else:\n",
        "        return 'Winter'\n",
        "\n",
        "df_full['ฤดูกาล'] = df_full['เดือน'].apply(assign_season)\n",
        "\n",
        "# --- กำหนดชุดฟีเจอร์ ---\n",
        "feature_sets = {\n",
        "    \"ข้อมูลเดิม + อุณหภูมิ\": ['ปี', 'ไตรมาส', 'ฤดูกาล', 'อุณหภูมิ'],\n",
        "    \"ข้อมูลเดิม + ความชื้น\": ['ปี', 'ไตรมาส', 'ฤดูกาล', 'ชื้น'],\n",
        "    \"ข้อมูลเดิม + ฝน\": ['ปี', 'ไตรมาส', 'ฤดูกาล', 'ฝน'],\n",
        "    \"ข้อมูลเดิม + อุณหภูมิ + ความชื้น\": ['ปี', 'ไตรมาส', 'ฤดูกาล', 'อุณหภูมิ', 'ชื้น'],\n",
        "    \"ข้อมูลเดิม + อุณหภูมิ + ฝน\": ['ปี', 'ไตรมาส', 'ฤดูกาล', 'อุณหภูมิ', 'ฝน'],\n",
        "    \"ข้อมูลเดิม + ความชื้น + ฝน\": ['ปี', 'ไตรมาส', 'ฤดูกาล', 'ชื้น', 'ฝน'],\n",
        "    \"ข้อมูลเดิม + อุณหภูมิ + ความชื้น + ฝน\": ['ปี', 'ไตรมาส', 'ฤดูกาล', 'อุณหภูมิ', 'ชื้น', 'ฝน'],\n",
        "}\n",
        "\n",
        "results = []\n",
        "\n",
        "for name, features in feature_sets.items():\n",
        "    df = df_full[features + ['จำนวนผู้ป่วย']].copy()\n",
        "    for col in df.select_dtypes(include='object').columns:\n",
        "        df[col] = LabelEncoder().fit_transform(df[col].astype(str))\n",
        "\n",
        "    X = df[features]\n",
        "    y = df['จำนวนผู้ป่วย']\n",
        "\n",
        "    X_train, X_test, y_train, y_test = train_test_split(X, y, test_size=0.2, random_state=42)\n",
        "\n",
        "    model = XGBRegressor(random_state=42)\n",
        "    model.fit(X_train, y_train)\n",
        "    y_pred = model.predict(X_test)\n",
        "\n",
        "    rmse = np.sqrt(mean_squared_error(y_test, y_pred))\n",
        "    mae = mean_absolute_error(y_test, y_pred)\n",
        "    r2 = r2_score(y_test, y_pred)\n",
        "\n",
        "    results.append({'ชุดข้อมูล': name, 'RMSE': rmse, 'MAE': mae, 'R2': r2})\n",
        "\n",
        "# --- แสดงผลลัพธ์ ---\n",
        "df_results = pd.DataFrame(results)\n",
        "df_results.sort_values('R2', ascending=False, inplace=True)\n",
        "print(df_results.reset_index(drop=True))\n"
      ],
      "metadata": {
        "id": "ko7OyJdXAauo"
      },
      "execution_count": null,
      "outputs": []
    },
    {
      "cell_type": "code",
      "source": [
        "import pandas as pd\n",
        "import numpy as np\n",
        "from sklearn.model_selection import train_test_split\n",
        "from sklearn.preprocessing import LabelEncoder, StandardScaler\n",
        "from sklearn.metrics import mean_squared_error, mean_absolute_error, r2_score\n",
        "from tensorflow.keras.models import Sequential\n",
        "from tensorflow.keras.layers import Dense\n",
        "from tensorflow.keras.optimizers import Adam\n",
        "from tensorflow.keras.callbacks import EarlyStopping\n",
        "import tensorflow as tf\n",
        "\n",
        "# ตั้ง random seed เพื่อความ reproducible\n",
        "np.random.seed(42)\n",
        "tf.random.set_seed(42)\n",
        "\n",
        "# --- โหลดข้อมูล ---\n",
        "df_base = pd.read_excel('DHFcc12.xlsx')\n",
        "df_weather = pd.read_excel('rain_all_years_sorted.xlsx')\n",
        "\n",
        "# --- แปลงวันเริ่มป่วยให้อยู่ในรูปแบบ datetime ---\n",
        "df_base['วันเริ่มป่วย'] = pd.to_datetime(df_base['วันเริ่มป่วย'], errors='coerce')\n",
        "df_weather['วัน'] = pd.to_datetime(df_weather['วัน'])\n",
        "df_weather.rename(columns={'วัน': 'วันที่'}, inplace=True)\n",
        "\n",
        "# --- นับจำนวนผู้ป่วยในแต่ละวัน ---\n",
        "df_count = df_base.groupby('วันเริ่มป่วย').size().reset_index(name='จำนวนผู้ป่วย')\n",
        "\n",
        "# --- คำนวณค่าเฉลี่ยย้อนหลัง 15 วัน ---\n",
        "weather_agg = []\n",
        "for date in df_count['วันเริ่มป่วย']:\n",
        "    mask = (df_weather['วันที่'] >= date - pd.Timedelta(days=15)) & (df_weather['วันที่'] < date)\n",
        "    past_weather = df_weather[mask]\n",
        "    weather_agg.append({\n",
        "        'วันเริ่มป่วย': date,\n",
        "        'อุณหภูมิ': past_weather['อุณหภูมิ'].mean(),\n",
        "        'ฝน': past_weather['ฝน'].mean(),\n",
        "        'ชื้น': past_weather['ชื้น'].mean()\n",
        "    })\n",
        "\n",
        "df_weather_agg = pd.DataFrame(weather_agg)\n",
        "\n",
        "# --- รวมข้อมูล ---\n",
        "df_full = pd.merge(df_count, df_weather_agg, on='วันเริ่มป่วย', how='left')\n",
        "\n",
        "# --- กำจัดแถวที่มีค่า missing (NaN) ในฟีเจอร์ (เนื่องจากค่า mean ของอดีต 15 วัน อาจมี NaN) ---\n",
        "df_full.dropna(subset=['อุณหภูมิ', 'ฝน', 'ชื้น'], inplace=True)\n",
        "\n",
        "# --- สร้างฟีเจอร์จากวันที่ ---\n",
        "df_full['เดือน'] = df_full['วันเริ่มป่วย'].dt.month\n",
        "df_full['ปี'] = df_full['วันเริ่มป่วย'].dt.year\n",
        "df_full['ไตรมาส'] = df_full['วันเริ่มป่วย'].dt.quarter\n",
        "\n",
        "def assign_season(month):\n",
        "    if month in [3, 4, 5]:\n",
        "        return 'Summer'\n",
        "    elif month in [6, 7, 8, 9]:\n",
        "        return 'Rainy'\n",
        "    else:\n",
        "        return 'Winter'\n",
        "\n",
        "df_full['ฤดูกาล'] = df_full['เดือน'].apply(assign_season)\n",
        "\n",
        "# --- กำหนดชุดฟีเจอร์ ---\n",
        "feature_sets = {\n",
        "    \"ข้อมูลเดิม + อุณหภูมิ\": ['ปี', 'ไตรมาส', 'ฤดูกาล', 'อุณหภูมิ'],\n",
        "    \"ข้อมูลเดิม + ความชื้น\": ['ปี', 'ไตรมาส', 'ฤดูกาล', 'ชื้น'],\n",
        "    \"ข้อมูลเดิม + ฝน\": ['ปี', 'ไตรมาส', 'ฤดูกาล', 'ฝน'],\n",
        "    \"ข้อมูลเดิม + อุณหภูมิ + ความชื้น\": ['ปี', 'ไตรมาส', 'ฤดูกาล', 'อุณหภูมิ', 'ชื้น'],\n",
        "    \"ข้อมูลเดิม + อุณหภูมิ + ฝน\": ['ปี', 'ไตรมาส', 'ฤดูกาล', 'อุณหภูมิ', 'ฝน'],\n",
        "    \"ข้อมูลเดิม + ความชื้น + ฝน\": ['ปี', 'ไตรมาส', 'ฤดูกาล', 'ชื้น', 'ฝน'],\n",
        "    \"ข้อมูลเดิม + อุณหภูมิ + ความชื้น + ฝน\": ['ปี', 'ไตรมาส', 'ฤดูกาล', 'อุณหภูมิ', 'ชื้น', 'ฝน'],\n",
        "}\n",
        "\n",
        "results = []\n",
        "\n",
        "for name, features in feature_sets.items():\n",
        "    df = df_full[features + ['จำนวนผู้ป่วย']].copy()\n",
        "\n",
        "    # แปลง categorical เป็นเลข (LabelEncoder)\n",
        "    for col in df.select_dtypes(include='object').columns:\n",
        "        df[col] = LabelEncoder().fit_transform(df[col].astype(str))\n",
        "\n",
        "    X = df[features].values\n",
        "    y = df['จำนวนผู้ป่วย'].values\n",
        "\n",
        "    # แบ่งข้อมูล train/test\n",
        "    X_train, X_test, y_train, y_test = train_test_split(X, y, test_size=0.2, random_state=42)\n",
        "\n",
        "    # Normalize features\n",
        "    scaler = StandardScaler()\n",
        "    X_train = scaler.fit_transform(X_train)\n",
        "    X_test = scaler.transform(X_test)\n",
        "\n",
        "    # สร้างโมเดล Deep Learning ง่าย ๆ\n",
        "    model = Sequential([\n",
        "        Dense(64, activation='relu', input_shape=(X_train.shape[1],)),\n",
        "        Dense(32, activation='relu'),\n",
        "        Dense(1)  # output layer สำหรับ regression\n",
        "    ])\n",
        "\n",
        "    model.compile(optimizer=Adam(learning_rate=0.001), loss='mse')\n",
        "\n",
        "    # Early stopping เพื่อลดการ overfit\n",
        "    early_stop = EarlyStopping(monitor='val_loss', patience=10, restore_best_weights=True)\n",
        "\n",
        "    # train model\n",
        "    model.fit(X_train, y_train, epochs=100, batch_size=32, verbose=0,\n",
        "              validation_split=0.2, callbacks=[early_stop])\n",
        "\n",
        "    # predict\n",
        "    y_pred = model.predict(X_test).flatten()\n",
        "\n",
        "    rmse = np.sqrt(mean_squared_error(y_test, y_pred))\n",
        "    mae = mean_absolute_error(y_test, y_pred)\n",
        "    r2 = r2_score(y_test, y_pred)\n",
        "\n",
        "    results.append({'ชุดข้อมูล': name, 'RMSE': rmse, 'MAE': mae, 'R2': r2})\n",
        "\n",
        "df_results = pd.DataFrame(results)\n",
        "df_results.sort_values('R2', ascending=False, inplace=True)\n",
        "print(df_results.reset_index(drop=True))\n"
      ],
      "metadata": {
        "id": "-NemnVJiBfWA"
      },
      "execution_count": null,
      "outputs": []
    }
  ]
}
