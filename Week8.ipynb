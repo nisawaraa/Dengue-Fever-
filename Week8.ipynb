{
  "nbformat": 4,
  "nbformat_minor": 0,
  "metadata": {
    "colab": {
      "private_outputs": true,
      "provenance": []
    },
    "kernelspec": {
      "name": "python3",
      "display_name": "Python 3"
    },
    "language_info": {
      "name": "python"
    }
  },
  "cells": [
    {
      "cell_type": "code",
      "source": [
        "import pandas as pd\n",
        "\n",
        "# ถ้าอยู่ใน Google Colab ให้รันก่อนเพื่ออัปโหลดไฟล์\n",
        "from google.colab import files\n",
        "uploaded = files.upload()\n",
        "\n",
        "# สมมุติชื่อไฟล์ว่า patient_data.xlsx\n",
        "patients = pd.read_excel('DHFcc12.xlsx')  # เปลี่ยนชื่อไฟล์ตามของคุณ\n"
      ],
      "metadata": {
        "id": "QqR6w-nVnHGq"
      },
      "execution_count": null,
      "outputs": []
    },
    {
      "cell_type": "code",
      "source": [
        "import pandas as pd\n",
        "\n",
        "# โหลดทุกชีทในไฟล์เดียว\n",
        "xls = pd.ExcelFile('DHFcc12.xlsx')  # <-- แก้ชื่อไฟล์ให้ตรง\n",
        "\n",
        "# ดึงชื่อชีททั้งหมด\n",
        "sheet_names = xls.sheet_names\n",
        "\n",
        "# อ่านและรวมทุกชีทเข้า DataFrame เดียว\n",
        "df_all = pd.concat([xls.parse(sheet) for sheet in sheet_names], ignore_index=True)\n",
        "\n",
        "# ดูผลลัพธ์\n",
        "df_all.head()\n"
      ],
      "metadata": {
        "id": "sb_BTjS3lbHQ"
      },
      "execution_count": null,
      "outputs": []
    },
    {
      "cell_type": "code",
      "source": [
        "patients = df_all  # ใช้แทนตัวแปรเดิม\n"
      ],
      "metadata": {
        "id": "fr4YoP8tnkYJ"
      },
      "execution_count": null,
      "outputs": []
    },
    {
      "cell_type": "code",
      "source": [
        "df_analysis = patients[['วันเริ่มป่วย', 'วันพบผป']]\n",
        "demographics = patients[['วันเริ่มป่วย', 'เพศ', 'อายุ(ปี)', 'อายุ(เดือน)', 'อาชีพ',\n",
        "                         'ชื่อหมู่บ้าน', 'ตำบล', 'อำเภอ', 'เดือน', 'ปี', 'ไตรมาส', 'ฤดูกาล']].drop_duplicates()\n",
        "\n",
        "df_model = pd.merge(df_analysis, demographics, on='วันเริ่มป่วย', how='left')\n"
      ],
      "metadata": {
        "id": "ffUGfVqbnoW6"
      },
      "execution_count": null,
      "outputs": []
    },
    {
      "cell_type": "code",
      "source": [
        "df_model.to_excel('ข้อมูลรวม1.xlsx', index=False)"
      ],
      "metadata": {
        "id": "VSd_efOnnq-F"
      },
      "execution_count": null,
      "outputs": []
    },
    {
      "cell_type": "code",
      "source": [
        "['เพศ', 'อายุ(ปี)', 'อาชีพ', 'ตำบล', 'อำเภอ', 'เดือน', 'ปี', 'ไตรมาส', 'ฤดูกาล']\n"
      ],
      "metadata": {
        "id": "WgiDx3VggjCt"
      },
      "execution_count": null,
      "outputs": []
    },
    {
      "cell_type": "markdown",
      "source": [],
      "metadata": {
        "id": "uAxrEwxYpGaP"
      }
    },
    {
      "cell_type": "markdown",
      "source": [
        "เปรียบเทียบ"
      ],
      "metadata": {
        "id": "UJOg1f07g-YE"
      }
    },
    {
      "cell_type": "code",
      "source": [
        "import pandas as pd\n",
        "import numpy as np\n",
        "from sklearn.model_selection import train_test_split\n",
        "from sklearn.preprocessing import LabelEncoder\n",
        "from sklearn.ensemble import RandomForestRegressor\n",
        "from sklearn.metrics import mean_squared_error, mean_absolute_error\n",
        "import tensorflow as tf\n",
        "from tensorflow.keras.models import Sequential\n",
        "from tensorflow.keras.layers import Dense\n",
        "\n",
        "# โหลดข้อมูล\n",
        "df = pd.read_excel('ข้อมูลรวม1.xlsx')\n",
        "\n",
        "# เลือกตัวแปร\n",
        "cols = ['เพศ', 'อายุ(ปี)', 'อาชีพ', 'ตำบล', 'อำเภอ', 'เดือน', 'ปี', 'ไตรมาส', 'ฤดูกาล']\n",
        "df = df[cols].copy()\n",
        "\n",
        "# สร้างเป้าหมาย: จำนวนผู้ป่วย (นับซ้ำในกลุ่ม)\n",
        "df['นับ'] = 1\n",
        "grouped = df.groupby(cols).agg({'นับ': 'sum'}).reset_index()\n",
        "X = grouped[cols]\n",
        "y = grouped['นับ']\n",
        "\n",
        "# แปลงข้อมูลประเภท category ให้เป็นตัวเลข\n",
        "X_encoded = X.copy()\n",
        "le_dict = {}\n",
        "for col in X_encoded.select_dtypes(include='object'):\n",
        "    le = LabelEncoder()\n",
        "    X_encoded[col] = le.fit_transform(X_encoded[col])\n",
        "    le_dict[col] = le\n",
        "\n",
        "# Train/Test Split\n",
        "X_train, X_test, y_train, y_test = train_test_split(X_encoded, y, test_size=0.2, random_state=42)\n",
        "\n",
        "from sklearn.ensemble import RandomForestRegressor\n",
        "\n",
        "rf_model = RandomForestRegressor(random_state=42)\n",
        "rf_model.fit(X_train, y_train)\n",
        "rf_pred = rf_model.predict(X_test)\n",
        "\n",
        "\n",
        "# 🔸 Random Forest\n",
        "rf_mse = mean_squared_error(y_test, rf_pred)\n",
        "rf_rmse = np.sqrt(rf_mse)\n",
        "rf_mae = mean_absolute_error(y_test, rf_pred)\n",
        "\n",
        "# 🔸 Deep Learning\n",
        "dl_model = Sequential([\n",
        "    Dense(64, activation='relu', input_shape=(X_train.shape[1],)),\n",
        "    Dense(32, activation='relu'),\n",
        "    Dense(1)\n",
        "])\n",
        "dl_model.compile(optimizer='adam', loss='mse')\n",
        "dl_model.fit(X_train, y_train, epochs=50, batch_size=16, verbose=0)\n",
        "dl_pred = dl_model.predict(X_test).flatten()\n",
        "mse = mean_squared_error(y_test, dl_pred)\n",
        "dl_rmse = np.sqrt(mse)\n",
        "\n",
        "dl_mae = mean_absolute_error(y_test, dl_pred)\n",
        "\n",
        "# แสดงผลลัพธ์\n",
        "print(\"🔹 Random Forest:\")\n",
        "print(\"  RMSE:\", rf_rmse)\n",
        "print(\"  MAE :\", rf_mae)\n",
        "\n",
        "print(\"\\n🔹 Deep Learning:\")\n",
        "print(\"  RMSE:\", dl_rmse)\n",
        "print(\"  MAE :\", dl_mae)\n"
      ],
      "metadata": {
        "id": "OWp2_OAChDmc"
      },
      "execution_count": null,
      "outputs": []
    },
    {
      "cell_type": "code",
      "source": [
        "import pandas as pd\n",
        "import numpy as np\n",
        "from sklearn.model_selection import train_test_split\n",
        "from sklearn.preprocessing import LabelEncoder\n",
        "from sklearn.ensemble import RandomForestRegressor\n",
        "from sklearn.metrics import mean_squared_error, mean_absolute_error, r2_score\n",
        "import tensorflow as tf\n",
        "from tensorflow.keras.models import Sequential\n",
        "from tensorflow.keras.layers import Dense\n",
        "import xgboost as xgb\n",
        "\n",
        "# โหลดข้อมูล\n",
        "df = pd.read_excel('ข้อมูลรวม1.xlsx')\n",
        "\n",
        "# เลือกตัวแปร\n",
        "cols = ['เพศ', 'อายุ(ปี)', 'อาชีพ', 'ตำบล', 'อำเภอ', 'เดือน', 'ปี', 'ไตรมาส', 'ฤดูกาล']\n",
        "df = df[cols].copy()\n",
        "\n",
        "# สร้างเป้าหมาย: จำนวนผู้ป่วย (นับซ้ำในกลุ่ม)\n",
        "df['นับ'] = 1\n",
        "grouped = df.groupby(cols).agg({'นับ': 'sum'}).reset_index()\n",
        "X = grouped[cols]\n",
        "y = grouped['นับ']\n",
        "\n",
        "# แปลงข้อมูลประเภท category ให้เป็นตัวเลข\n",
        "X_encoded = X.copy()\n",
        "le_dict = {}\n",
        "for col in X_encoded.select_dtypes(include='object'):\n",
        "    le = LabelEncoder()\n",
        "    X_encoded[col] = le.fit_transform(X_encoded[col])\n",
        "    le_dict[col] = le\n",
        "\n",
        "# Train/Test Split\n",
        "X_train, X_test, y_train, y_test = train_test_split(X_encoded, y, test_size=0.2, random_state=42)\n",
        "\n",
        "# Random Forest\n",
        "rf_model = RandomForestRegressor(random_state=42)\n",
        "rf_model.fit(X_train, y_train)\n",
        "rf_pred = rf_model.predict(X_test)\n",
        "\n",
        "# Deep Learning\n",
        "dl_model = Sequential([\n",
        "    Dense(64, activation='relu', input_shape=(X_train.shape[1],)),\n",
        "    Dense(32, activation='relu'),\n",
        "    Dense(1)\n",
        "])\n",
        "dl_model.compile(optimizer='adam', loss='mse')\n",
        "dl_model.fit(X_train, y_train, epochs=50, batch_size=16, verbose=0)\n",
        "dl_pred = dl_model.predict(X_test).flatten()\n",
        "\n",
        "# XGBoost\n",
        "xgb_model = xgb.XGBRegressor(objective='reg:squarederror', random_state=42)\n",
        "xgb_model.fit(X_train, y_train)\n",
        "xgb_pred = xgb_model.predict(X_test)\n",
        "\n",
        "# คำนวณเมตริกสำหรับแต่ละโมเดล\n",
        "def print_metrics(y_true, y_pred, model_name):\n",
        "    rmse = np.sqrt(mean_squared_error(y_true, y_pred))\n",
        "    mae = mean_absolute_error(y_true, y_pred)\n",
        "    r2 = r2_score(y_true, y_pred)\n",
        "    print(f\"🔹 {model_name}:\")\n",
        "    print(f\"  RMSE: {rmse:.4f}\")\n",
        "    print(f\"  MAE : {mae:.4f}\")\n",
        "    print(f\"  R2  : {r2:.4f}\\n\")\n",
        "\n",
        "print_metrics(y_test, rf_pred, \"Random Forest\")\n",
        "print_metrics(y_test, dl_pred, \"Deep Learning\")\n",
        "print_metrics(y_test, xgb_pred, \"XGBoost\")\n"
      ],
      "metadata": {
        "id": "taPkm2QnYA90"
      },
      "execution_count": null,
      "outputs": []
    },
    {
      "cell_type": "code",
      "source": [
        "results_df = X_test.copy()\n",
        "results_df['Actual'] = y_test.values\n",
        "results_df['RF_Pred'] = rf_pred\n",
        "results_df['DL_Pred'] = dl_pred\n",
        "results_df['XGB_Pred'] = xgb_pred\n",
        "\n",
        "results_df.to_excel('ผลลัพธ์เปรียบเทียบโมเดล.xlsx', index=False)\n",
        "print(\"✅ บันทึกผลลัพธ์ไว้ในไฟล์: ผลลัพธ์เปรียบเทียบโมเดล1.xlsx\")\n"
      ],
      "metadata": {
        "id": "_Dc0AZgjYeZE"
      },
      "execution_count": null,
      "outputs": []
    },
    {
      "cell_type": "markdown",
      "source": [
        "# ทำทางสถิติ"
      ],
      "metadata": {
        "id": "gj0ONhabiCDo"
      }
    },
    {
      "cell_type": "code",
      "source": [
        "import pandas as pd\n",
        "\n",
        "df = pd.read_excel('ข้อมูลรวม1.xlsx')\n",
        "print(df.columns)  # ดูชื่อคอลัมน์จริง\n"
      ],
      "metadata": {
        "id": "SrW9J5Ollhap"
      },
      "execution_count": null,
      "outputs": []
    },
    {
      "cell_type": "code",
      "source": [
        "import pandas as pd\n",
        "import statsmodels.api as sm\n",
        "import statsmodels.formula.api as smf\n",
        "\n",
        "# 1. โหลดข้อมูล\n",
        "df = pd.read_excel('ข้อมูลรวม1.xlsx')\n",
        "\n",
        "# 2. เปลี่ยนชื่อคอลัมน์ (ถ้ามีวงเล็บหรือช่องว่าง)\n",
        "df = df.rename(columns={\n",
        "    'จำนวนผู้ป่วย': 'count_patients',\n",
        "    'เพศ': 'gender',\n",
        "    'อายุ(ปี)': 'age_year',\n",
        "    'อาชีพ': 'occupation',\n",
        "    'ตำบล': 'subdistrict',\n",
        "    'อำเภอ': 'district',\n",
        "    'เดือน': 'month',\n",
        "    'ปี': 'year',\n",
        "    'ไตรมาส': 'quarter',\n",
        "    'ฤดูกาล': 'season'\n",
        "})\n",
        "\n",
        "# 3. รวมกลุ่มข้อมูลและนับจำนวนผู้ป่วยในแต่ละกลุ่ม\n",
        "df_count = df.groupby([\n",
        "    'gender', 'age_year', 'occupation', 'subdistrict', 'district',\n",
        "    'month', 'year', 'quarter', 'season'\n",
        "]).size().reset_index(name='count_patients')\n",
        "\n",
        "# 4. สร้างสูตร (formula) สำหรับ glm\n",
        "formula = 'count_patients ~ gender + age_year + occupation + subdistrict + district + month + year + quarter + season'\n",
        "\n",
        "# 5. Fit Poisson Regression\n",
        "poisson_model = smf.glm(formula=formula, data=df_count, family=sm.families.Poisson()).fit()\n",
        "\n",
        "# 6. แสดงผลสรุปโมเดล\n",
        "print(poisson_model.summary())\n",
        "\n",
        "# 7. ตรวจสอบ overdispersion\n",
        "dispersion = poisson_model.deviance / poisson_model.df_resid\n",
        "print(f'\\nDispersion ratio: {dispersion:.2f}')\n",
        "\n",
        "if dispersion > 1.5:\n",
        "    print(\"\\nOverdispersion detected! Fit Negative Binomial Regression instead.\\n\")\n",
        "    nb_model = smf.glm(formula=formula, data=df_count, family=sm.families.NegativeBinomial()).fit()\n",
        "    print(nb_model.summary())\n",
        "else:\n",
        "    print(\"\\nNo significant overdispersion detected. Poisson model is fine.\")\n"
      ],
      "metadata": {
        "id": "lENeOOTzmIrX"
      },
      "execution_count": null,
      "outputs": []
    },
    {
      "cell_type": "code",
      "source": [
        "significant_vars = poisson_model.pvalues[poisson_model.pvalues < 0.05].index.tolist()\n",
        "print(\"ตัวแปรที่มีนัยสำคัญ (p-value < 0.05):\")\n",
        "print(significant_vars)\n"
      ],
      "metadata": {
        "id": "d03I3fiZoHad"
      },
      "execution_count": null,
      "outputs": []
    },
    {
      "cell_type": "code",
      "source": [
        "significant_vars = ['occupation', 'subdistrict', 'district', 'season', 'month', 'year', 'quarter']\n",
        "\n",
        "# แปลง categorical variables ให้เป็น C(variable)\n",
        "formula_terms = []\n",
        "for var in significant_vars:\n",
        "    if var in ['occupation', 'subdistrict', 'district', 'season']:\n",
        "        formula_terms.append(f'C({var})')\n",
        "    else:\n",
        "        formula_terms.append(var)\n",
        "\n",
        "formula_significant = 'count_patients ~ ' + ' + '.join(formula_terms)\n",
        "\n",
        "poisson_model_sig = smf.glm(formula=formula_significant, data=df_count, family=sm.families.Poisson()).fit()\n",
        "\n",
        "print(poisson_model_sig.summary())\n"
      ],
      "metadata": {
        "id": "80oVQtqJoTls"
      },
      "execution_count": null,
      "outputs": []
    },
    {
      "cell_type": "code",
      "source": [
        "conf_int = poisson_model_sig.conf_int()\n",
        "results_df = pd.DataFrame({\n",
        "    'coef': params,\n",
        "    'p_value': pvalues,\n",
        "    'conf_low': conf_int[0],\n",
        "    'conf_high': conf_int[1]\n",
        "})\n",
        "\n",
        "# แสดงเฉพาะตัวแปรที่มีนัยสำคัญ\n",
        "print(results_df[results_df['p_value'] < 0.05])\n"
      ],
      "metadata": {
        "id": "xDr9MW2Mot4t"
      },
      "execution_count": null,
      "outputs": []
    },
    {
      "cell_type": "code",
      "source": [
        "import matplotlib.pyplot as plt\n",
        "import seaborn as sns\n",
        "\n",
        "# รวมจำนวนผู้ป่วยตามฤดู\n",
        "df_season = df.groupby('season').size().reset_index(name='count_patients')\n",
        "\n",
        "# สร้างกราฟแท่ง\n",
        "plt.figure(figsize=(8,5))\n",
        "sns.barplot(data=df_season, x='season', y='count_patients', palette='coolwarm')\n",
        "plt.title('จำนวนผู้ป่วยไข้เลือดออกตามฤดู')\n",
        "plt.xlabel('ฤดู')\n",
        "plt.ylabel('จำนวนผู้ป่วย')\n",
        "plt.show()\n"
      ],
      "metadata": {
        "id": "WRK3MYkbpJP8"
      },
      "execution_count": null,
      "outputs": []
    },
    {
      "cell_type": "code",
      "source": [],
      "metadata": {
        "id": "48XVFHM_VKBn"
      },
      "execution_count": null,
      "outputs": []
    }
  ]
}